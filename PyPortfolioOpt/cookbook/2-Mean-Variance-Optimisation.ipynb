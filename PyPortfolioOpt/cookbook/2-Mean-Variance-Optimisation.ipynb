{
 "cells": [
  {
   "cell_type": "markdown",
   "metadata": {},
   "source": [
    "# Mean-variance optimisation\n",
    "\n",
    "In this cookbook recipe, we work on several examples demonstrating PyPortfolioOpt's mean-variance capabilities. I will discuss what I think should be your \"default\" options, based on my experience in optimising portfolios.\n",
    "\n",
    "To start, you need a list of tickers. Some people just provide the whole universe of stocks, but I don't think this is a good idea - portfolio optimisation is quite different from asset selection. I would suggest anywhere from 10-50 stocks as a starting point.\n",
    "\n",
    "Some of the things we cover:\n",
    "\n",
    "- Downloading data and getting it into PyPortfolioOpt\n",
    "- Calculating and visualising the covariance matrix\n",
    "- Optimising a long/short portfolio to minimise total variance\n",
    "- Optimising a portfolio to maximise the Sharpe ratio, subject to sector constraints\n",
    "- Optimising a portfolio to maximise return for a given risk, subject to sector constraints, with an L2 regularisation objective\n",
    "- Optimising a market-neutral portfolio to minimise risk for a given level of return\n",
    "- Plotting the efficient frontier\n",
    "\n",
    "Please consult the [docs](https://pyportfolioopt.readthedocs.io/) for more info.\n",
    "\n",
    "## Downloading data\n",
    "\n",
    "To download data, we will use `yfinance`, an excellent library that provides free price data from Yahoo Finance, no API key needed."
   ]
  },
  {
   "cell_type": "code",
   "execution_count": 1,
   "metadata": {},
   "outputs": [],
   "source": [
    "import yfinance as yf\n",
    "import matplotlib.pyplot as plt\n",
    "import pandas as pd\n",
    "import numpy as np"
   ]
  },
  {
   "cell_type": "code",
   "execution_count": 2,
   "metadata": {},
   "outputs": [],
   "source": [
    "tickers = [\"MSFT\", \"AMZN\", \"KO\", \"MA\", \"COST\", \n",
    "           \"LUV\", \"XOM\", \"PFE\", \"JPM\", \"UNH\", \n",
    "           \"ACN\", \"DIS\", \"GILD\", \"F\", \"TSLA\"] "
   ]
  },
  {
   "cell_type": "code",
   "execution_count": 3,
   "metadata": {},
   "outputs": [
    {
     "name": "stdout",
     "output_type": "stream",
     "text": [
      "[*********************100%***********************]  15 of 15 completed\n"
     ]
    }
   ],
   "source": [
    "ohlc = yf.download(tickers, period=\"max\")"
   ]
  },
  {
   "cell_type": "code",
   "execution_count": 4,
   "metadata": {},
   "outputs": [
    {
     "data": {
      "text/html": [
       "<div>\n",
       "<style scoped>\n",
       "    .dataframe tbody tr th:only-of-type {\n",
       "        vertical-align: middle;\n",
       "    }\n",
       "\n",
       "    .dataframe tbody tr th {\n",
       "        vertical-align: top;\n",
       "    }\n",
       "\n",
       "    .dataframe thead th {\n",
       "        text-align: right;\n",
       "    }\n",
       "</style>\n",
       "<table border=\"1\" class=\"dataframe\">\n",
       "  <thead>\n",
       "    <tr style=\"text-align: right;\">\n",
       "      <th></th>\n",
       "      <th>ACN</th>\n",
       "      <th>AMZN</th>\n",
       "      <th>COST</th>\n",
       "      <th>DIS</th>\n",
       "      <th>F</th>\n",
       "      <th>GILD</th>\n",
       "      <th>JPM</th>\n",
       "      <th>KO</th>\n",
       "      <th>LUV</th>\n",
       "      <th>MA</th>\n",
       "      <th>MSFT</th>\n",
       "      <th>PFE</th>\n",
       "      <th>TSLA</th>\n",
       "      <th>UNH</th>\n",
       "      <th>XOM</th>\n",
       "    </tr>\n",
       "    <tr>\n",
       "      <th>Date</th>\n",
       "      <th></th>\n",
       "      <th></th>\n",
       "      <th></th>\n",
       "      <th></th>\n",
       "      <th></th>\n",
       "      <th></th>\n",
       "      <th></th>\n",
       "      <th></th>\n",
       "      <th></th>\n",
       "      <th></th>\n",
       "      <th></th>\n",
       "      <th></th>\n",
       "      <th></th>\n",
       "      <th></th>\n",
       "      <th></th>\n",
       "    </tr>\n",
       "  </thead>\n",
       "  <tbody>\n",
       "    <tr>\n",
       "      <th>2020-08-25</th>\n",
       "      <td>238.210007</td>\n",
       "      <td>3346.489990</td>\n",
       "      <td>344.709991</td>\n",
       "      <td>129.789993</td>\n",
       "      <td>6.9400</td>\n",
       "      <td>66.050003</td>\n",
       "      <td>100.500000</td>\n",
       "      <td>47.910000</td>\n",
       "      <td>37.060001</td>\n",
       "      <td>347.660004</td>\n",
       "      <td>216.470001</td>\n",
       "      <td>38.410000</td>\n",
       "      <td>404.667999</td>\n",
       "      <td>312.220001</td>\n",
       "      <td>40.880001</td>\n",
       "    </tr>\n",
       "    <tr>\n",
       "      <th>2020-08-26</th>\n",
       "      <td>240.449997</td>\n",
       "      <td>3441.850098</td>\n",
       "      <td>344.269989</td>\n",
       "      <td>132.179993</td>\n",
       "      <td>6.8200</td>\n",
       "      <td>65.599998</td>\n",
       "      <td>99.089996</td>\n",
       "      <td>48.160000</td>\n",
       "      <td>36.380001</td>\n",
       "      <td>351.019989</td>\n",
       "      <td>221.149994</td>\n",
       "      <td>38.049999</td>\n",
       "      <td>430.634003</td>\n",
       "      <td>308.820007</td>\n",
       "      <td>40.009998</td>\n",
       "    </tr>\n",
       "    <tr>\n",
       "      <th>2020-08-27</th>\n",
       "      <td>240.869995</td>\n",
       "      <td>3400.000000</td>\n",
       "      <td>346.359985</td>\n",
       "      <td>133.729996</td>\n",
       "      <td>6.9100</td>\n",
       "      <td>65.550003</td>\n",
       "      <td>102.349998</td>\n",
       "      <td>48.230000</td>\n",
       "      <td>37.650002</td>\n",
       "      <td>356.000000</td>\n",
       "      <td>226.580002</td>\n",
       "      <td>37.860001</td>\n",
       "      <td>447.750000</td>\n",
       "      <td>311.670013</td>\n",
       "      <td>39.740002</td>\n",
       "    </tr>\n",
       "    <tr>\n",
       "      <th>2020-08-28</th>\n",
       "      <td>242.990005</td>\n",
       "      <td>3401.800049</td>\n",
       "      <td>348.369995</td>\n",
       "      <td>135.539993</td>\n",
       "      <td>6.9400</td>\n",
       "      <td>65.260002</td>\n",
       "      <td>102.769997</td>\n",
       "      <td>49.830002</td>\n",
       "      <td>38.810001</td>\n",
       "      <td>366.119995</td>\n",
       "      <td>228.910004</td>\n",
       "      <td>37.910000</td>\n",
       "      <td>442.679993</td>\n",
       "      <td>314.369995</td>\n",
       "      <td>40.689999</td>\n",
       "    </tr>\n",
       "    <tr>\n",
       "      <th>2020-08-31</th>\n",
       "      <td>241.500000</td>\n",
       "      <td>3446.000000</td>\n",
       "      <td>346.760010</td>\n",
       "      <td>134.003998</td>\n",
       "      <td>6.8899</td>\n",
       "      <td>65.540001</td>\n",
       "      <td>101.349998</td>\n",
       "      <td>49.982399</td>\n",
       "      <td>38.424702</td>\n",
       "      <td>362.739014</td>\n",
       "      <td>227.119995</td>\n",
       "      <td>37.709999</td>\n",
       "      <td>453.559998</td>\n",
       "      <td>316.007690</td>\n",
       "      <td>40.070000</td>\n",
       "    </tr>\n",
       "  </tbody>\n",
       "</table>\n",
       "</div>"
      ],
      "text/plain": [
       "                   ACN         AMZN        COST         DIS       F  \\\n",
       "Date                                                                  \n",
       "2020-08-25  238.210007  3346.489990  344.709991  129.789993  6.9400   \n",
       "2020-08-26  240.449997  3441.850098  344.269989  132.179993  6.8200   \n",
       "2020-08-27  240.869995  3400.000000  346.359985  133.729996  6.9100   \n",
       "2020-08-28  242.990005  3401.800049  348.369995  135.539993  6.9400   \n",
       "2020-08-31  241.500000  3446.000000  346.760010  134.003998  6.8899   \n",
       "\n",
       "                 GILD         JPM         KO        LUV          MA  \\\n",
       "Date                                                                  \n",
       "2020-08-25  66.050003  100.500000  47.910000  37.060001  347.660004   \n",
       "2020-08-26  65.599998   99.089996  48.160000  36.380001  351.019989   \n",
       "2020-08-27  65.550003  102.349998  48.230000  37.650002  356.000000   \n",
       "2020-08-28  65.260002  102.769997  49.830002  38.810001  366.119995   \n",
       "2020-08-31  65.540001  101.349998  49.982399  38.424702  362.739014   \n",
       "\n",
       "                  MSFT        PFE        TSLA         UNH        XOM  \n",
       "Date                                                                  \n",
       "2020-08-25  216.470001  38.410000  404.667999  312.220001  40.880001  \n",
       "2020-08-26  221.149994  38.049999  430.634003  308.820007  40.009998  \n",
       "2020-08-27  226.580002  37.860001  447.750000  311.670013  39.740002  \n",
       "2020-08-28  228.910004  37.910000  442.679993  314.369995  40.689999  \n",
       "2020-08-31  227.119995  37.709999  453.559998  316.007690  40.070000  "
      ]
     },
     "execution_count": 4,
     "metadata": {},
     "output_type": "execute_result"
    }
   ],
   "source": [
    "prices = ohlc[\"Adj Close\"]\n",
    "prices.tail()"
   ]
  },
  {
   "cell_type": "code",
   "execution_count": 5,
   "metadata": {},
   "outputs": [
    {
     "data": {
      "image/png": "[encoded data removed]",
      "text/plain": [
       "<Figure size 1080x720 with 1 Axes>"
      ]
     },
     "metadata": {
      "needs_background": "light"
     },
     "output_type": "display_data"
    }
   ],
   "source": [
    "prices[prices.index >= \"2008-01-01\"].plot(figsize=(15,10));"
   ]
  },
  {
   "cell_type": "markdown",
   "metadata": {},
   "source": [
    "## Calculating the covariance matrix"
   ]
  },
  {
   "cell_type": "code",
   "execution_count": 6,
   "metadata": {},
   "outputs": [
    {
     "data": {
      "text/plain": [
       "'1.2.6'"
      ]
     },
     "execution_count": 6,
     "metadata": {},
     "output_type": "execute_result"
    }
   ],
   "source": [
    "import pypfopt\n",
    "pypfopt.__version__"
   ]
  },
  {
   "cell_type": "code",
   "execution_count": 7,
   "metadata": {},
   "outputs": [
    {
     "data": {
      "text/html": [
       "<div>\n",
       "<style scoped>\n",
       "    .dataframe tbody tr th:only-of-type {\n",
       "        vertical-align: middle;\n",
       "    }\n",
       "\n",
       "    .dataframe tbody tr th {\n",
       "        vertical-align: top;\n",
       "    }\n",
       "\n",
       "    .dataframe thead th {\n",
       "        text-align: right;\n",
       "    }\n",
       "</style>\n",
       "<table border=\"1\" class=\"dataframe\">\n",
       "  <thead>\n",
       "    <tr style=\"text-align: right;\">\n",
       "      <th></th>\n",
       "      <th>ACN</th>\n",
       "      <th>AMZN</th>\n",
       "      <th>COST</th>\n",
       "      <th>DIS</th>\n",
       "      <th>F</th>\n",
       "      <th>GILD</th>\n",
       "      <th>JPM</th>\n",
       "      <th>KO</th>\n",
       "      <th>LUV</th>\n",
       "      <th>MA</th>\n",
       "      <th>MSFT</th>\n",
       "      <th>PFE</th>\n",
       "      <th>TSLA</th>\n",
       "      <th>UNH</th>\n",
       "      <th>XOM</th>\n",
       "    </tr>\n",
       "  </thead>\n",
       "  <tbody>\n",
       "    <tr>\n",
       "      <th>ACN</th>\n",
       "      <td>0.093094</td>\n",
       "      <td>0.045407</td>\n",
       "      <td>0.027579</td>\n",
       "      <td>0.041165</td>\n",
       "      <td>0.044073</td>\n",
       "      <td>0.030193</td>\n",
       "      <td>0.050208</td>\n",
       "      <td>0.020357</td>\n",
       "      <td>0.037103</td>\n",
       "      <td>0.045783</td>\n",
       "      <td>0.040778</td>\n",
       "      <td>0.026555</td>\n",
       "      <td>0.038793</td>\n",
       "      <td>0.030902</td>\n",
       "      <td>0.031397</td>\n",
       "    </tr>\n",
       "    <tr>\n",
       "      <th>AMZN</th>\n",
       "      <td>0.045407</td>\n",
       "      <td>0.347872</td>\n",
       "      <td>0.047965</td>\n",
       "      <td>0.056220</td>\n",
       "      <td>0.053434</td>\n",
       "      <td>0.062210</td>\n",
       "      <td>0.069731</td>\n",
       "      <td>0.020622</td>\n",
       "      <td>0.048755</td>\n",
       "      <td>0.057527</td>\n",
       "      <td>0.072401</td>\n",
       "      <td>0.033163</td>\n",
       "      <td>0.054011</td>\n",
       "      <td>0.035816</td>\n",
       "      <td>0.027948</td>\n",
       "    </tr>\n",
       "    <tr>\n",
       "      <th>COST</th>\n",
       "      <td>0.027579</td>\n",
       "      <td>0.047965</td>\n",
       "      <td>0.103891</td>\n",
       "      <td>0.032762</td>\n",
       "      <td>0.031453</td>\n",
       "      <td>0.028079</td>\n",
       "      <td>0.040055</td>\n",
       "      <td>0.021841</td>\n",
       "      <td>0.032323</td>\n",
       "      <td>0.033329</td>\n",
       "      <td>0.037209</td>\n",
       "      <td>0.026071</td>\n",
       "      <td>0.021746</td>\n",
       "      <td>0.027832</td>\n",
       "      <td>0.021078</td>\n",
       "    </tr>\n",
       "    <tr>\n",
       "      <th>DIS</th>\n",
       "      <td>0.041165</td>\n",
       "      <td>0.056220</td>\n",
       "      <td>0.032762</td>\n",
       "      <td>0.099753</td>\n",
       "      <td>0.040454</td>\n",
       "      <td>0.033665</td>\n",
       "      <td>0.047356</td>\n",
       "      <td>0.026319</td>\n",
       "      <td>0.038373</td>\n",
       "      <td>0.050007</td>\n",
       "      <td>0.043262</td>\n",
       "      <td>0.030406</td>\n",
       "      <td>0.039484</td>\n",
       "      <td>0.032806</td>\n",
       "      <td>0.025197</td>\n",
       "    </tr>\n",
       "    <tr>\n",
       "      <th>F</th>\n",
       "      <td>0.044073</td>\n",
       "      <td>0.053434</td>\n",
       "      <td>0.031453</td>\n",
       "      <td>0.040454</td>\n",
       "      <td>0.140885</td>\n",
       "      <td>0.031284</td>\n",
       "      <td>0.054068</td>\n",
       "      <td>0.026846</td>\n",
       "      <td>0.045529</td>\n",
       "      <td>0.064008</td>\n",
       "      <td>0.042072</td>\n",
       "      <td>0.029781</td>\n",
       "      <td>0.051356</td>\n",
       "      <td>0.028567</td>\n",
       "      <td>0.027575</td>\n",
       "    </tr>\n",
       "    <tr>\n",
       "      <th>GILD</th>\n",
       "      <td>0.030193</td>\n",
       "      <td>0.062210</td>\n",
       "      <td>0.028079</td>\n",
       "      <td>0.033665</td>\n",
       "      <td>0.031284</td>\n",
       "      <td>0.246942</td>\n",
       "      <td>0.044329</td>\n",
       "      <td>0.017139</td>\n",
       "      <td>0.032341</td>\n",
       "      <td>0.034895</td>\n",
       "      <td>0.036697</td>\n",
       "      <td>0.033419</td>\n",
       "      <td>0.033981</td>\n",
       "      <td>0.035157</td>\n",
       "      <td>0.021333</td>\n",
       "    </tr>\n",
       "    <tr>\n",
       "      <th>JPM</th>\n",
       "      <td>0.050208</td>\n",
       "      <td>0.069731</td>\n",
       "      <td>0.040055</td>\n",
       "      <td>0.047356</td>\n",
       "      <td>0.054068</td>\n",
       "      <td>0.044329</td>\n",
       "      <td>0.130802</td>\n",
       "      <td>0.027980</td>\n",
       "      <td>0.048700</td>\n",
       "      <td>0.073372</td>\n",
       "      <td>0.050873</td>\n",
       "      <td>0.034076</td>\n",
       "      <td>0.041195</td>\n",
       "      <td>0.039613</td>\n",
       "      <td>0.032345</td>\n",
       "    </tr>\n",
       "    <tr>\n",
       "      <th>KO</th>\n",
       "      <td>0.020357</td>\n",
       "      <td>0.020622</td>\n",
       "      <td>0.021841</td>\n",
       "      <td>0.026319</td>\n",
       "      <td>0.026846</td>\n",
       "      <td>0.017139</td>\n",
       "      <td>0.027980</td>\n",
       "      <td>0.058425</td>\n",
       "      <td>0.023267</td>\n",
       "      <td>0.026201</td>\n",
       "      <td>0.028783</td>\n",
       "      <td>0.026625</td>\n",
       "      <td>0.019843</td>\n",
       "      <td>0.023432</td>\n",
       "      <td>0.020724</td>\n",
       "    </tr>\n",
       "    <tr>\n",
       "      <th>LUV</th>\n",
       "      <td>0.037103</td>\n",
       "      <td>0.048755</td>\n",
       "      <td>0.032323</td>\n",
       "      <td>0.038373</td>\n",
       "      <td>0.045529</td>\n",
       "      <td>0.032341</td>\n",
       "      <td>0.048700</td>\n",
       "      <td>0.023267</td>\n",
       "      <td>0.139006</td>\n",
       "      <td>0.047582</td>\n",
       "      <td>0.037587</td>\n",
       "      <td>0.026521</td>\n",
       "      <td>0.037411</td>\n",
       "      <td>0.033530</td>\n",
       "      <td>0.022512</td>\n",
       "    </tr>\n",
       "    <tr>\n",
       "      <th>MA</th>\n",
       "      <td>0.045783</td>\n",
       "      <td>0.057527</td>\n",
       "      <td>0.033329</td>\n",
       "      <td>0.050007</td>\n",
       "      <td>0.064008</td>\n",
       "      <td>0.034895</td>\n",
       "      <td>0.073372</td>\n",
       "      <td>0.026201</td>\n",
       "      <td>0.047582</td>\n",
       "      <td>0.121440</td>\n",
       "      <td>0.049855</td>\n",
       "      <td>0.034201</td>\n",
       "      <td>0.045948</td>\n",
       "      <td>0.044906</td>\n",
       "      <td>0.043052</td>\n",
       "    </tr>\n",
       "    <tr>\n",
       "      <th>MSFT</th>\n",
       "      <td>0.040778</td>\n",
       "      <td>0.072401</td>\n",
       "      <td>0.037209</td>\n",
       "      <td>0.043262</td>\n",
       "      <td>0.042072</td>\n",
       "      <td>0.036697</td>\n",
       "      <td>0.050873</td>\n",
       "      <td>0.028783</td>\n",
       "      <td>0.037587</td>\n",
       "      <td>0.049855</td>\n",
       "      <td>0.116637</td>\n",
       "      <td>0.031655</td>\n",
       "      <td>0.044051</td>\n",
       "      <td>0.034459</td>\n",
       "      <td>0.030663</td>\n",
       "    </tr>\n",
       "    <tr>\n",
       "      <th>PFE</th>\n",
       "      <td>0.026555</td>\n",
       "      <td>0.033163</td>\n",
       "      <td>0.026071</td>\n",
       "      <td>0.030406</td>\n",
       "      <td>0.029781</td>\n",
       "      <td>0.033419</td>\n",
       "      <td>0.034076</td>\n",
       "      <td>0.026625</td>\n",
       "      <td>0.026521</td>\n",
       "      <td>0.034201</td>\n",
       "      <td>0.031655</td>\n",
       "      <td>0.104586</td>\n",
       "      <td>0.020999</td>\n",
       "      <td>0.028552</td>\n",
       "      <td>0.023778</td>\n",
       "    </tr>\n",
       "    <tr>\n",
       "      <th>TSLA</th>\n",
       "      <td>0.038793</td>\n",
       "      <td>0.054011</td>\n",
       "      <td>0.021746</td>\n",
       "      <td>0.039484</td>\n",
       "      <td>0.051356</td>\n",
       "      <td>0.033981</td>\n",
       "      <td>0.041195</td>\n",
       "      <td>0.019843</td>\n",
       "      <td>0.037411</td>\n",
       "      <td>0.045948</td>\n",
       "      <td>0.044051</td>\n",
       "      <td>0.020999</td>\n",
       "      <td>0.306539</td>\n",
       "      <td>0.033248</td>\n",
       "      <td>0.031779</td>\n",
       "    </tr>\n",
       "    <tr>\n",
       "      <th>UNH</th>\n",
       "      <td>0.030902</td>\n",
       "      <td>0.035816</td>\n",
       "      <td>0.027832</td>\n",
       "      <td>0.032806</td>\n",
       "      <td>0.028567</td>\n",
       "      <td>0.035157</td>\n",
       "      <td>0.039613</td>\n",
       "      <td>0.023432</td>\n",
       "      <td>0.033530</td>\n",
       "      <td>0.044906</td>\n",
       "      <td>0.034459</td>\n",
       "      <td>0.028552</td>\n",
       "      <td>0.033248</td>\n",
       "      <td>0.168258</td>\n",
       "      <td>0.023531</td>\n",
       "    </tr>\n",
       "    <tr>\n",
       "      <th>XOM</th>\n",
       "      <td>0.031397</td>\n",
       "      <td>0.027948</td>\n",
       "      <td>0.021078</td>\n",
       "      <td>0.025197</td>\n",
       "      <td>0.027575</td>\n",
       "      <td>0.021333</td>\n",
       "      <td>0.032345</td>\n",
       "      <td>0.020724</td>\n",
       "      <td>0.022512</td>\n",
       "      <td>0.043052</td>\n",
       "      <td>0.030663</td>\n",
       "      <td>0.023778</td>\n",
       "      <td>0.031779</td>\n",
       "      <td>0.023531</td>\n",
       "      <td>0.051832</td>\n",
       "    </tr>\n",
       "  </tbody>\n",
       "</table>\n",
       "</div>"
      ],
      "text/plain": [
       "           ACN      AMZN      COST       DIS         F      GILD       JPM  \\\n",
       "ACN   0.093094  0.045407  0.027579  0.041165  0.044073  0.030193  0.050208   \n",
       "AMZN  0.045407  0.347872  0.047965  0.056220  0.053434  0.062210  0.069731   \n",
       "COST  0.027579  0.047965  0.103891  0.032762  0.031453  0.028079  0.040055   \n",
       "DIS   0.041165  0.056220  0.032762  0.099753  0.040454  0.033665  0.047356   \n",
       "F     0.044073  0.053434  0.031453  0.040454  0.140885  0.031284  0.054068   \n",
       "GILD  0.030193  0.062210  0.028079  0.033665  0.031284  0.246942  0.044329   \n",
       "JPM   0.050208  0.069731  0.040055  0.047356  0.054068  0.044329  0.130802   \n",
       "KO    0.020357  0.020622  0.021841  0.026319  0.026846  0.017139  0.027980   \n",
       "LUV   0.037103  0.048755  0.032323  0.038373  0.045529  0.032341  0.048700   \n",
       "MA    0.045783  0.057527  0.033329  0.050007  0.064008  0.034895  0.073372   \n",
       "MSFT  0.040778  0.072401  0.037209  0.043262  0.042072  0.036697  0.050873   \n",
       "PFE   0.026555  0.033163  0.026071  0.030406  0.029781  0.033419  0.034076   \n",
       "TSLA  0.038793  0.054011  0.021746  0.039484  0.051356  0.033981  0.041195   \n",
       "UNH   0.030902  0.035816  0.027832  0.032806  0.028567  0.035157  0.039613   \n",
       "XOM   0.031397  0.027948  0.021078  0.025197  0.027575  0.021333  0.032345   \n",
       "\n",
       "            KO       LUV        MA      MSFT       PFE      TSLA       UNH  \\\n",
       "ACN   0.020357  0.037103  0.045783  0.040778  0.026555  0.038793  0.030902   \n",
       "AMZN  0.020622  0.048755  0.057527  0.072401  0.033163  0.054011  0.035816   \n",
       "COST  0.021841  0.032323  0.033329  0.037209  0.026071  0.021746  0.027832   \n",
       "DIS   0.026319  0.038373  0.050007  0.043262  0.030406  0.039484  0.032806   \n",
       "F     0.026846  0.045529  0.064008  0.042072  0.029781  0.051356  0.028567   \n",
       "GILD  0.017139  0.032341  0.034895  0.036697  0.033419  0.033981  0.035157   \n",
       "JPM   0.027980  0.048700  0.073372  0.050873  0.034076  0.041195  0.039613   \n",
       "KO    0.058425  0.023267  0.026201  0.028783  0.026625  0.019843  0.023432   \n",
       "LUV   0.023267  0.139006  0.047582  0.037587  0.026521  0.037411  0.033530   \n",
       "MA    0.026201  0.047582  0.121440  0.049855  0.034201  0.045948  0.044906   \n",
       "MSFT  0.028783  0.037587  0.049855  0.116637  0.031655  0.044051  0.034459   \n",
       "PFE   0.026625  0.026521  0.034201  0.031655  0.104586  0.020999  0.028552   \n",
       "TSLA  0.019843  0.037411  0.045948  0.044051  0.020999  0.306539  0.033248   \n",
       "UNH   0.023432  0.033530  0.044906  0.034459  0.028552  0.033248  0.168258   \n",
       "XOM   0.020724  0.022512  0.043052  0.030663  0.023778  0.031779  0.023531   \n",
       "\n",
       "           XOM  \n",
       "ACN   0.031397  \n",
       "AMZN  0.027948  \n",
       "COST  0.021078  \n",
       "DIS   0.025197  \n",
       "F     0.027575  \n",
       "GILD  0.021333  \n",
       "JPM   0.032345  \n",
       "KO    0.020724  \n",
       "LUV   0.022512  \n",
       "MA    0.043052  \n",
       "MSFT  0.030663  \n",
       "PFE   0.023778  \n",
       "TSLA  0.031779  \n",
       "UNH   0.023531  \n",
       "XOM   0.051832  "
      ]
     },
     "execution_count": 7,
     "metadata": {},
     "output_type": "execute_result"
    }
   ],
   "source": [
    "from pypfopt import risk_models\n",
    "from pypfopt import plotting\n",
    "\n",
    "sample_cov = risk_models.sample_cov(prices, frequency=252)\n",
    "sample_cov"
   ]
  },
  {
   "cell_type": "code",
   "execution_count": 8,
   "metadata": {},
   "outputs": [
    {
     "data": {
      "image/png": "[encoded data removed]",
      "text/plain": [
       "<Figure size 432x288 with 2 Axes>"
      ]
     },
     "metadata": {
      "needs_background": "light"
     },
     "output_type": "display_data"
    }
   ],
   "source": [
    "plotting.plot_covariance(sample_cov, plot_correlation=True);"
   ]
  },
  {
   "cell_type": "markdown",
   "metadata": {},
   "source": [
    "For reasons discussed in the docs, the sample covariance matrix should not be your default choice. I think a better option is Ledoit-Wolf shrinkage, which reduces the extreme values in the covariance matrix. In the image below, we can see that there are fewer bright spots outside the diagonal:"
   ]
  },
  {
   "cell_type": "code",
   "execution_count": 9,
   "metadata": {},
   "outputs": [
    {
     "data": {
      "image/png": "[encoded data removed]",
      "text/plain": [
       "<Figure size 432x288 with 2 Axes>"
      ]
     },
     "metadata": {
      "needs_background": "light"
     },
     "output_type": "display_data"
    }
   ],
   "source": [
    "S = risk_models.CovarianceShrinkage(prices).ledoit_wolf()\n",
    "plotting.plot_covariance(S, plot_correlation=True);"
   ]
  },
  {
   "cell_type": "markdown",
   "metadata": {},
   "source": [
    "## Return estimation\n",
    "\n",
    "As discussed in the docs, it is often a bad idea to provide returns using a simple estimate like the mean of past returns. Generally, unless you have a proprietary method for estimating returns, I would skip this altogether and just find the `min_volatility()` portfolio or use `HRP`. \n",
    "\n",
    "However, in this example we will use the CAPM returns, which aims to be slightly more stable than the default mean historical return. Please see the notebook `1-RiskReturnModels.ipynb` for more information."
   ]
  },
  {
   "cell_type": "code",
   "execution_count": 10,
   "metadata": {},
   "outputs": [
    {
     "data": {
      "text/plain": [
       "ACN     0.242786\n",
       "AMZN    0.423108\n",
       "COST    0.226397\n",
       "DIS     0.258165\n",
       "F       0.267743\n",
       "GILD    0.302412\n",
       "JPM     0.292926\n",
       "KO      0.173077\n",
       "LUV     0.262007\n",
       "MA      0.307144\n",
       "MSFT    0.278328\n",
       "PFE     0.224194\n",
       "TSLA    0.320534\n",
       "UNH     0.257650\n",
       "XOM     0.161996\n",
       "Name: mkt, dtype: float64"
      ]
     },
     "execution_count": 10,
     "metadata": {},
     "output_type": "execute_result"
    }
   ],
   "source": [
    "from pypfopt import expected_returns\n",
    "\n",
    "mu = expected_returns.capm_return(prices)\n",
    "mu"
   ]
  },
  {
   "cell_type": "code",
   "execution_count": 11,
   "metadata": {},
   "outputs": [
    {
     "data": {
      "image/png": "[encoded data removed]",
      "text/plain": [
       "<Figure size 720x432 with 1 Axes>"
      ]
     },
     "metadata": {
      "needs_background": "light"
     },
     "output_type": "display_data"
    }
   ],
   "source": [
    "mu.plot.barh(figsize=(10,6));"
   ]
  },
  {
   "cell_type": "markdown",
   "metadata": {},
   "source": [
    "## Long/short min variance\n",
    "\n",
    "In this section, we construct a long/short portfolio with the objective of minimising variance. There is a good deal of research that demonstrates how global-minimum variance (GMV) portfolios outperform mean-variance optimised portfolios."
   ]
  },
  {
   "cell_type": "code",
   "execution_count": 12,
   "metadata": {},
   "outputs": [],
   "source": [
    "from pypfopt import EfficientFrontier"
   ]
  },
  {
   "cell_type": "code",
   "execution_count": 13,
   "metadata": {},
   "outputs": [
    {
     "name": "stderr",
     "output_type": "stream",
     "text": [
      "/Users/Robert/github/PyPortfolioOpt/pypfopt/efficient_frontier.py:111: UserWarning: No expected returns provided. You may only use ef.min_volatility()\n",
      "  warnings.warn(\n"
     ]
    },
    {
     "data": {
      "text/plain": [
       "OrderedDict([('ACN', 0.23285),\n",
       "             ('AMZN', 0.00795),\n",
       "             ('COST', 0.09757),\n",
       "             ('DIS', -0.01352),\n",
       "             ('F', -0.01528),\n",
       "             ('GILD', 0.04145),\n",
       "             ('JPM', -0.05008),\n",
       "             ('KO', 0.11397),\n",
       "             ('LUV', 0.02501),\n",
       "             ('MA', 0.24374),\n",
       "             ('MSFT', 0.0051),\n",
       "             ('PFE', 0.0432),\n",
       "             ('TSLA', 0.16315),\n",
       "             ('UNH', 0.02959),\n",
       "             ('XOM', 0.07531)])"
      ]
     },
     "execution_count": 13,
     "metadata": {},
     "output_type": "execute_result"
    }
   ],
   "source": [
    "S = risk_models.CovarianceShrinkage(prices).ledoit_wolf()\n",
    "\n",
    "# You don't have to provide expected returns in this case\n",
    "ef = EfficientFrontier(None, S, weight_bounds=(None, None))\n",
    "ef.min_volatility()\n",
    "weights = ef.clean_weights()\n",
    "weights"
   ]
  },
  {
   "cell_type": "code",
   "execution_count": 14,
   "metadata": {},
   "outputs": [
    {
     "data": {
      "image/png": "[encoded data removed]",
      "text/plain": [
       "<Figure size 432x288 with 1 Axes>"
      ]
     },
     "metadata": {
      "needs_background": "light"
     },
     "output_type": "display_data"
    }
   ],
   "source": [
    "pd.Series(weights).plot.barh();"
   ]
  },
  {
   "cell_type": "markdown",
   "metadata": {},
   "source": [
    "We can get a quick indication of the portfolio performance as follows. Note that this is an in sample estimate and may have very little resemblance to how the portfolio actually performs!"
   ]
  },
  {
   "cell_type": "code",
   "execution_count": 15,
   "metadata": {},
   "outputs": [
    {
     "name": "stdout",
     "output_type": "stream",
     "text": [
      "Annual volatility: 11.7%\n"
     ]
    }
   ],
   "source": [
    "ef.portfolio_performance(verbose=True);"
   ]
  },
  {
   "cell_type": "markdown",
   "metadata": {},
   "source": [
    "Let's say we were happy with this portfolio and wanted to actually go out and buy the shares.  To do this, we would need to construct a **discrete allocation** (unless your broker supports fractional shares!)\n",
    "\n",
    "If we had \\$20,0000 to invest and would like our portfolio to be 130/30 long/short, we can construct the actual allocation as follows:"
   ]
  },
  {
   "cell_type": "code",
   "execution_count": 16,
   "metadata": {},
   "outputs": [
    {
     "name": "stdout",
     "output_type": "stream",
     "text": [
      "Discrete allocation performed with $44.77 leftover\n"
     ]
    },
    {
     "data": {
      "text/plain": [
       "{'ACN': 18,\n",
       " 'COST': 5,\n",
       " 'GILD': 12,\n",
       " 'KO': 42,\n",
       " 'LUV': 12,\n",
       " 'MA': 12,\n",
       " 'MSFT': 1,\n",
       " 'PFE': 21,\n",
       " 'TSLA': 7,\n",
       " 'UNH': 2,\n",
       " 'XOM': 34,\n",
       " 'DIS': -8,\n",
       " 'F': -169,\n",
       " 'JPM': -37}"
      ]
     },
     "execution_count": 16,
     "metadata": {},
     "output_type": "execute_result"
    }
   ],
   "source": [
    "from pypfopt import DiscreteAllocation\n",
    "\n",
    "latest_prices = prices.iloc[-1]  # prices as of the day you are allocating\n",
    "da = DiscreteAllocation(weights, latest_prices, total_portfolio_value=20000, short_ratio=0.3)\n",
    "alloc, leftover = da.lp_portfolio()\n",
    "print(f\"Discrete allocation performed with ${leftover:.2f} leftover\")\n",
    "alloc"
   ]
  },
  {
   "cell_type": "markdown",
   "metadata": {},
   "source": [
    "## Max Sharpe with sector constraints\n",
    "\n",
    "If you have your own model for returns (or have read the warnings and want to proceed anyways), you may consider maximising the Sharpe ratio. This theoretically gives the optimal portfolio in terms of risks-returns.\n",
    "\n",
    "In this section, we construct a long-only max-sharpe portfolio, but also incorporate sector constraints. Sector constraints require three things. A `sector_mapper`, your `sector_lower` bounds, and your `sector_upper` bounds."
   ]
  },
  {
   "cell_type": "code",
   "execution_count": 17,
   "metadata": {},
   "outputs": [],
   "source": [
    "sector_mapper = {\n",
    "    \"MSFT\": \"Tech\",\n",
    "    \"AMZN\": \"Consumer Discretionary\",\n",
    "    \"KO\": \"Consumer Staples\",\n",
    "    \"MA\": \"Financial Services\",\n",
    "    \"COST\": \"Consumer Staples\",\n",
    "    \"LUV\": \"Aerospace\",\n",
    "    \"XOM\": \"Energy\",\n",
    "    \"PFE\": \"Healthcare\",\n",
    "    \"JPM\": \"Financial Services\",\n",
    "    \"UNH\": \"Healthcare\",\n",
    "    \"ACN\": \"Misc\",\n",
    "    \"DIS\": \"Media\",\n",
    "    \"GILD\": \"Healthcare\",\n",
    "    \"F\": \"Auto\",\n",
    "    \"TSLA\": \"Auto\"\n",
    "}\n",
    "\n",
    "sector_lower = {\n",
    "    \"Consumer Staples\": 0.1, # at least 10% to staples\n",
    "    \"Tech\": 0.05 # at least 5% to tech\n",
    "    # For all other sectors, it will be assumed there is no lower bound\n",
    "}\n",
    "\n",
    "sector_upper = {\n",
    "    \"Tech\": 0.2,\n",
    "    \"Aerospace\":0.1,\n",
    "    \"Energy\": 0.1,\n",
    "    \"Auto\":0.15\n",
    "}"
   ]
  },
  {
   "cell_type": "markdown",
   "metadata": {},
   "source": [
    "We then set up the optimiser and add our constraints. We can use `ef.add_objective()` to add other constraints. For example, let's say that in addition to the above sector constraints, I specifically want:\n",
    "\n",
    "- 10% of the portfolio in AMZN\n",
    "- Less than 5% of my portfolio in TSLA"
   ]
  },
  {
   "cell_type": "code",
   "execution_count": 18,
   "metadata": {},
   "outputs": [],
   "source": [
    "mu = expected_returns.capm_return(prices)\n",
    "S = risk_models.CovarianceShrinkage(prices).ledoit_wolf()\n",
    "\n",
    "ef = EfficientFrontier(mu, S)  # weight_bounds automatically set to (0, 1)\n",
    "ef.add_sector_constraints(sector_mapper, sector_lower, sector_upper)\n",
    "\n",
    "amzn_index = ef.tickers.index(\"AMZN\")\n",
    "ef.add_constraint(lambda w: w[amzn_index] == 0.10)\n",
    "\n",
    "tsla_index = ef.tickers.index(\"TSLA\")\n",
    "ef.add_constraint(lambda w: w[tsla_index] <= 0.05)\n",
    "\n",
    "ef.add_constraint(lambda w: w[10] >= 0.05)\n",
    "\n",
    "ef.max_sharpe()\n",
    "weights = ef.clean_weights()"
   ]
  },
  {
   "cell_type": "code",
   "execution_count": 19,
   "metadata": {},
   "outputs": [
    {
     "data": {
      "text/plain": [
       "OrderedDict([('ACN', 0.16839),\n",
       "             ('AMZN', 0.1),\n",
       "             ('COST', 0.05598),\n",
       "             ('DIS', 0.0),\n",
       "             ('F', 0.0),\n",
       "             ('GILD', 0.05757),\n",
       "             ('JPM', 0.0),\n",
       "             ('KO', 0.04402),\n",
       "             ('LUV', 0.01731),\n",
       "             ('MA', 0.40061),\n",
       "             ('MSFT', 0.05),\n",
       "             ('PFE', 0.02667),\n",
       "             ('TSLA', 0.05),\n",
       "             ('UNH', 0.02945),\n",
       "             ('XOM', 0.0)])"
      ]
     },
     "execution_count": 19,
     "metadata": {},
     "output_type": "execute_result"
    }
   ],
   "source": [
    "weights"
   ]
  },
  {
   "cell_type": "code",
   "execution_count": 20,
   "metadata": {},
   "outputs": [
    {
     "data": {
      "image/png": "[encoded data removed]",
      "text/plain": [
       "<Figure size 720x720 with 1 Axes>"
      ]
     },
     "metadata": {},
     "output_type": "display_data"
    }
   ],
   "source": [
    "pd.Series(weights).plot.pie(figsize=(10,10));"
   ]
  },
  {
   "cell_type": "markdown",
   "metadata": {},
   "source": [
    "We can immediately see that our explicit constraints were satisfied, and can check all the sector constraints as follows:\n"
   ]
  },
  {
   "cell_type": "code",
   "execution_count": 21,
   "metadata": {},
   "outputs": [
    {
     "name": "stdout",
     "output_type": "stream",
     "text": [
      "Healthcare: 0.114\n",
      "Auto: 0.050\n",
      "Media: 0.000\n",
      "Misc: 0.168\n",
      "Energy: 0.000\n",
      "Financial Services: 0.401\n",
      "Tech: 0.050\n",
      "Consumer Discretionary: 0.100\n",
      "Consumer Staples: 0.100\n",
      "Aerospace: 0.017\n"
     ]
    }
   ],
   "source": [
    "# O(N^2) loop not a good idea in a coding interview :)\n",
    "for sector in set(sector_mapper.values()):\n",
    "    total_weight = 0\n",
    "    for t,w in weights.items():\n",
    "        if sector_mapper[t] == sector:\n",
    "            total_weight += w\n",
    "    print(f\"{sector}: {total_weight:.3f}\")"
   ]
  },
  {
   "cell_type": "markdown",
   "metadata": {},
   "source": [
    "## Maximise return for a given risk, with L2 regularisation\n",
    "\n",
    "Let's imagine that we've put a lot of thought into our risk tolerance, and have decided that we can't accept anything more than 15% volatility. We can use PyPortfolioOpt to construct a portfolio that maximises return for a given risk (with the same caveats about expected returns)."
   ]
  },
  {
   "cell_type": "code",
   "execution_count": 22,
   "metadata": {},
   "outputs": [
    {
     "data": {
      "text/plain": [
       "OrderedDict([('ACN', 0.0),\n",
       "             ('AMZN', 0.20598),\n",
       "             ('COST', 0.1),\n",
       "             ('DIS', 0.0),\n",
       "             ('F', 0.0),\n",
       "             ('GILD', 0.05281),\n",
       "             ('JPM', 0.0),\n",
       "             ('KO', 0.0),\n",
       "             ('LUV', 0.0),\n",
       "             ('MA', 0.44121),\n",
       "             ('MSFT', 0.05),\n",
       "             ('PFE', 0.0),\n",
       "             ('TSLA', 0.15),\n",
       "             ('UNH', 0.0),\n",
       "             ('XOM', 0.0)])"
      ]
     },
     "execution_count": 22,
     "metadata": {},
     "output_type": "execute_result"
    }
   ],
   "source": [
    "ef = EfficientFrontier(mu, S)\n",
    "ef.add_sector_constraints(sector_mapper, sector_lower, sector_upper)\n",
    "ef.efficient_risk(target_volatility=0.15)\n",
    "weights = ef.clean_weights()\n",
    "weights"
   ]
  },
  {
   "cell_type": "code",
   "execution_count": 23,
   "metadata": {},
   "outputs": [
    {
     "name": "stdout",
     "output_type": "stream",
     "text": [
      "9/15 tickers have zero weight\n"
     ]
    }
   ],
   "source": [
    "num_small = len([k for k in weights if weights[k] <= 1e-4])\n",
    "print(f\"{num_small}/{len(ef.tickers)} tickers have zero weight\")"
   ]
  },
  {
   "cell_type": "code",
   "execution_count": 24,
   "metadata": {},
   "outputs": [
    {
     "name": "stdout",
     "output_type": "stream",
     "text": [
      "Expected annual return: 32.3%\n",
      "Annual volatility: 15.0%\n",
      "Sharpe Ratio: 2.02\n"
     ]
    }
   ],
   "source": [
    "ef.portfolio_performance(verbose=True);"
   ]
  },
  {
   "cell_type": "markdown",
   "metadata": {},
   "source": [
    "While this portfolio seems like it meets our objectives, we might be worried by the fact that a lot of the tickers have been assigned zero weight. In effect, the optimiser is \"overfitting\" to the data you have provided -- you are much more likely to get better results by enforcing some level of diversification. One way of doing this is to use **L2 regularisation** – essentially, adding a penalty on the number of near-zero weights."
   ]
  },
  {
   "cell_type": "code",
   "execution_count": 25,
   "metadata": {},
   "outputs": [
    {
     "data": {
      "text/plain": [
       "OrderedDict([('ACN', 0.04131),\n",
       "             ('AMZN', 0.21703),\n",
       "             ('COST', 0.09082),\n",
       "             ('DIS', 0.00352),\n",
       "             ('F', 0.0),\n",
       "             ('GILD', 0.08389),\n",
       "             ('JPM', 0.03658),\n",
       "             ('KO', 0.00918),\n",
       "             ('LUV', 0.02122),\n",
       "             ('MA', 0.26738),\n",
       "             ('MSFT', 0.05),\n",
       "             ('PFE', 0.0),\n",
       "             ('TSLA', 0.15),\n",
       "             ('UNH', 0.02907),\n",
       "             ('XOM', 0.0)])"
      ]
     },
     "execution_count": 25,
     "metadata": {},
     "output_type": "execute_result"
    }
   ],
   "source": [
    "from pypfopt import objective_functions\n",
    "\n",
    "# You must always create a new efficient frontier object\n",
    "ef = EfficientFrontier(mu, S)\n",
    "ef.add_sector_constraints(sector_mapper, sector_lower, sector_upper)\n",
    "ef.add_objective(objective_functions.L2_reg, gamma=0.1)  # gamme is the tuning parameter\n",
    "ef.efficient_risk(0.15)\n",
    "weights = ef.clean_weights()\n",
    "weights"
   ]
  },
  {
   "cell_type": "code",
   "execution_count": 26,
   "metadata": {},
   "outputs": [
    {
     "name": "stdout",
     "output_type": "stream",
     "text": [
      "3/15 tickers have zero weight\n"
     ]
    }
   ],
   "source": [
    "num_small = len([k for k in weights if weights[k] <= 1e-4])\n",
    "print(f\"{num_small}/{len(ef.tickers)} tickers have zero weight\")"
   ]
  },
  {
   "cell_type": "markdown",
   "metadata": {},
   "source": [
    "We can tune the value of gamma to choose the number of nonzero tickers. Larger gamma pulls portfolio weights towards an equal allocation."
   ]
  },
  {
   "cell_type": "code",
   "execution_count": 27,
   "metadata": {},
   "outputs": [
    {
     "data": {
      "text/plain": [
       "OrderedDict([('ACN', 0.05272),\n",
       "             ('AMZN', 0.14289),\n",
       "             ('COST', 0.06333),\n",
       "             ('DIS', 0.06041),\n",
       "             ('F', 0.0618),\n",
       "             ('GILD', 0.08254),\n",
       "             ('JPM', 0.07779),\n",
       "             ('KO', 0.03667),\n",
       "             ('LUV', 0.06233),\n",
       "             ('MA', 0.0849),\n",
       "             ('MSFT', 0.0705),\n",
       "             ('PFE', 0.04343),\n",
       "             ('TSLA', 0.0882),\n",
       "             ('UNH', 0.06016),\n",
       "             ('XOM', 0.01233)])"
      ]
     },
     "execution_count": 27,
     "metadata": {},
     "output_type": "execute_result"
    }
   ],
   "source": [
    "ef = EfficientFrontier(mu, S)\n",
    "ef.add_sector_constraints(sector_mapper, sector_lower, sector_upper)\n",
    "ef.add_objective(objective_functions.L2_reg, gamma=1)  # gamme is the tuning parameter\n",
    "ef.efficient_risk(0.15)\n",
    "weights = ef.clean_weights()\n",
    "weights"
   ]
  },
  {
   "cell_type": "code",
   "execution_count": 28,
   "metadata": {},
   "outputs": [
    {
     "data": {
      "image/png": "[encoded data removed]",
      "text/plain": [
       "<Figure size 720x720 with 1 Axes>"
      ]
     },
     "metadata": {},
     "output_type": "display_data"
    }
   ],
   "source": [
    "pd.Series(weights).plot.pie(figsize=(10, 10));"
   ]
  },
  {
   "cell_type": "code",
   "execution_count": 29,
   "metadata": {},
   "outputs": [
    {
     "name": "stdout",
     "output_type": "stream",
     "text": [
      "Expected annual return: 29.1%\n",
      "Annual volatility: 15.0%\n",
      "Sharpe Ratio: 1.81\n"
     ]
    }
   ],
   "source": [
    "ef.portfolio_performance(verbose=True);"
   ]
  },
  {
   "cell_type": "markdown",
   "metadata": {},
   "source": [
    "The resulting portfolio still has a volatility of less than our 15% limit. It's in-sample Sharpe ratio has gone down, but this portfolio is a lot more robust for actual investment."
   ]
  },
  {
   "cell_type": "markdown",
   "metadata": {},
   "source": [
    "## Minimise risk for a given return, market-neutral\n",
    "\n",
    "We may instead be in the situation where we have a certain required rate of return (maybe we are a pension fund that needs 7% return a year), but would like to minimise risk. Additionally, suppose we would like our portfolio to be market neutral, in the sense that it is equally exposed to the long and short sides.  "
   ]
  },
  {
   "cell_type": "code",
   "execution_count": 30,
   "metadata": {},
   "outputs": [
    {
     "data": {
      "text/plain": [
       "OrderedDict([('ACN', -0.03285),\n",
       "             ('AMZN', 0.19368),\n",
       "             ('COST', -0.05316),\n",
       "             ('DIS', -0.00794),\n",
       "             ('F', 0.00351),\n",
       "             ('GILD', 0.04376),\n",
       "             ('JPM', 0.03535),\n",
       "             ('KO', -0.12038),\n",
       "             ('LUV', -0.00505),\n",
       "             ('MA', 0.05519),\n",
       "             ('MSFT', 0.01536),\n",
       "             ('PFE', -0.05175),\n",
       "             ('TSLA', 0.07152),\n",
       "             ('UNH', -0.00996),\n",
       "             ('XOM', -0.13727)])"
      ]
     },
     "execution_count": 30,
     "metadata": {},
     "output_type": "execute_result"
    }
   ],
   "source": [
    "# Must have no weight bounds to allow shorts\n",
    "ef = EfficientFrontier(mu, S, weight_bounds=(None, None))\n",
    "ef.add_objective(objective_functions.L2_reg)\n",
    "ef.efficient_return(target_return=0.07, market_neutral=True)\n",
    "weights = ef.clean_weights()\n",
    "weights"
   ]
  },
  {
   "cell_type": "code",
   "execution_count": 31,
   "metadata": {},
   "outputs": [
    {
     "name": "stdout",
     "output_type": "stream",
     "text": [
      "Expected annual return: 7.0%\n",
      "Annual volatility: 9.2%\n",
      "Sharpe Ratio: 0.55\n"
     ]
    }
   ],
   "source": [
    "ef.portfolio_performance(verbose=True);"
   ]
  },
  {
   "cell_type": "code",
   "execution_count": 32,
   "metadata": {},
   "outputs": [
    {
     "data": {
      "image/png": "[encoded data removed]",
      "text/plain": [
       "<Figure size 720x432 with 1 Axes>"
      ]
     },
     "metadata": {
      "needs_background": "light"
     },
     "output_type": "display_data"
    }
   ],
   "source": [
    "pd.Series(weights).plot.barh(figsize=(10,6));"
   ]
  },
  {
   "cell_type": "code",
   "execution_count": 33,
   "metadata": {},
   "outputs": [
    {
     "name": "stdout",
     "output_type": "stream",
     "text": [
      "Net weight: 0.00\n"
     ]
    }
   ],
   "source": [
    "print(f\"Net weight: {sum(weights.values()):.2f}\")"
   ]
  },
  {
   "cell_type": "markdown",
   "metadata": {},
   "source": [
    "## Plotting\n",
    "\n",
    "To plot the unconstrained efficient frontier, we can use the critical line algorithm. "
   ]
  },
  {
   "cell_type": "code",
   "execution_count": 34,
   "metadata": {},
   "outputs": [
    {
     "name": "stdout",
     "output_type": "stream",
     "text": [
      "Expected annual return: 29.4%\n",
      "Annual volatility: 12.5%\n",
      "Sharpe Ratio: 2.19\n"
     ]
    }
   ],
   "source": [
    "from pypfopt import CLA, plotting\n",
    "\n",
    "cla = CLA(mu, S)\n",
    "cla.max_sharpe()\n",
    "cla.portfolio_performance(verbose=True);"
   ]
  },
  {
   "cell_type": "code",
   "execution_count": 35,
   "metadata": {},
   "outputs": [
    {
     "data": {
      "image/png": "[encoded data removed]",
      "text/plain": [
       "<Figure size 432x288 with 1 Axes>"
      ]
     },
     "metadata": {
      "needs_background": "light"
     },
     "output_type": "display_data"
    }
   ],
   "source": [
    "ax = plotting.plot_efficient_frontier(cla, showfig=False)"
   ]
  },
  {
   "cell_type": "markdown",
   "metadata": {},
   "source": [
    "PyPortfolioOpt does not yet suport plotting the constrained efficient frontier (i.e based on `EfficientFrontier` objects). Such support may arrive in a future version. It is possible to do this manually by looping over portfolios:"
   ]
  },
  {
   "cell_type": "code",
   "execution_count": 36,
   "metadata": {},
   "outputs": [
    {
     "data": {
      "image/png": "[encoded data removed]",
      "text/plain": [
       "<Figure size 432x288 with 1 Axes>"
      ]
     },
     "metadata": {
      "needs_background": "light"
     },
     "output_type": "display_data"
    }
   ],
   "source": [
    "returns, sigmas = [], []\n",
    "for delta in np.arange(1, 100, 1):\n",
    "    ef = EfficientFrontier(mu, S, weight_bounds=(0.02, 0.15))\n",
    "    ef.max_quadratic_utility(delta)\n",
    "    ret, sigma, _ = ef.portfolio_performance()\n",
    "    returns.append(ret)\n",
    "    sigmas.append(sigma)\n",
    "plt.plot(sigmas, returns);"
   ]
  },
  {
   "cell_type": "code",
   "execution_count": null,
   "metadata": {},
   "outputs": [],
   "source": []
  }
 ],
 "metadata": {
  "kernelspec": {
   "display_name": "Python 3",
   "language": "python",
   "name": "python3"
  },
  "language_info": {
   "codemirror_mode": {
    "name": "ipython",
    "version": 3
   },
   "file_extension": ".py",
   "mimetype": "text/x-python",
   "name": "python",
   "nbconvert_exporter": "python",
   "pygments_lexer": "ipython3",
   "version": "3.8.5"
  }
 },
 "nbformat": 4,
 "nbformat_minor": 4
}
