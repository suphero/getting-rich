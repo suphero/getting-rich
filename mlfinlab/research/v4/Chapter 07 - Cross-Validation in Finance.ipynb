{
 "cells": [
  {
   "cell_type": "code",
   "execution_count": 73,
   "metadata": {},
   "outputs": [],
   "source": [
    "import numpy as np\n",
    "import pandas as pd\n",
    "import matplotlib\n",
    "import matplotlib.pyplot as mpl\n",
    "\n",
    "from collections import defaultdict\n",
    "from functools import reduce\n",
    "from path import Path\n",
    "from pprint import pprint\n",
    "import seaborn as sns\n",
    "\n",
    "%matplotlib inline\n",
    "mpl.style.use('ggplot')\n",
    "mpl.rcParams['figure.figsize'] = 16,6"
   ]
  },
  {
   "cell_type": "markdown",
   "metadata": {},
   "source": [
    "# 7.1\n",
    "\n",
    "Why is shuffling a dataset before conducting a k-fold CV generall a bad idea in finance? What is the purpose of shuffling? Why does shuffling defeat the purpose of k-fold CV in financial datasets?"
   ]
  },
  {
   "cell_type": "markdown",
   "metadata": {},
   "source": [
    "**A: Markets are adaptive systems and thus sample order is meaningful. Generally we would shuffle data because we don't want the model to make predictions based on the order of the data.**"
   ]
  },
  {
   "cell_type": "code",
   "execution_count": 3,
   "metadata": {},
   "outputs": [],
   "source": [
    "from sampling import dollar_bars\n",
    "from filters import cusum\n",
    "from multiprocess import mpPandasObj\n",
    "from load_data import load_contracts\n",
    "from labeling import getEvents, getVerticalBarriers, getBins\n",
    "from util import getDailyVol"
   ]
  },
  {
   "cell_type": "code",
   "execution_count": 4,
   "metadata": {},
   "outputs": [],
   "source": [
    "es_contracts = load_contracts('@ES')"
   ]
  },
  {
   "cell_type": "markdown",
   "metadata": {},
   "source": [
    "# 7.2a\n",
    "\n",
    "Take a pair of matrices (X, y) representing observed features and labels. These could be one of the datasets derived from the exercises in Chapter 3.\n",
    "\n",
    "Derive the performance from a 10-fold CV of an RF classifier on (X, y), without shuffling."
   ]
  },
  {
   "cell_type": "code",
   "execution_count": 5,
   "metadata": {
    "collapsed": true
   },
   "outputs": [
    {
     "name": "stderr",
     "output_type": "stream",
     "text": [
      "C:\\Users\\doda\\Dropbox\\algotrading\\AFML\\labeling.py:7: FutureWarning: \n",
      "Passing list-likes to .loc or [] with any missing label will raise\n",
      "KeyError in the future, you can use .reindex() as an alternative.\n",
      "\n",
      "See the documentation here:\n",
      "http://pandas.pydata.org/pandas-docs/stable/indexing.html#deprecate-loc-reindex-listlike\n",
      "  trgt = trgt.loc[tEvents]\n"
     ]
    },
    {
     "data": {
      "text/plain": [
       "RandomForestClassifier(bootstrap=True, class_weight=None, criterion='gini',\n",
       "            max_depth=5, max_features='auto', max_leaf_nodes=None,\n",
       "            min_impurity_decrease=0.0, min_impurity_split=None,\n",
       "            min_samples_leaf=1, min_samples_split=2,\n",
       "            min_weight_fraction_leaf=0.0, n_estimators=512, n_jobs=None,\n",
       "            oob_score=True, random_state=42, verbose=0, warm_start=False)"
      ]
     },
     "execution_count": 5,
     "metadata": {},
     "output_type": "execute_result"
    }
   ],
   "source": [
    "dbars = dollar_bars(es_contracts, 100000000)\n",
    "\n",
    "df = dbars.copy()['2018-8-1':'2019-5-1']\n",
    "close = df['Close']\n",
    "daily_vol = getDailyVol(close)\n",
    "tEvents = cusum(close, getDailyVol(close).mean())\n",
    "t1 = getVerticalBarriers(close, tEvents, numDays=1)\n",
    "events = getEvents(close, tEvents=tEvents, ptSl=[1,1], t1=t1, trgt=daily_vol, minRet=0.01)\n",
    "\n",
    "close = df['Close']\n",
    "fast_ma = close.rolling(50).mean()\n",
    "slow_ma = close.rolling(200).mean()\n",
    "\n",
    "long_signals = (fast_ma >= slow_ma)\n",
    "short_signals = (fast_ma < slow_ma)\n",
    "\n",
    "df.loc[long_signals, 'side'] = 1\n",
    "df.loc[short_signals, 'side'] = -1\n",
    "events['side'] = df['side']\n",
    "\n",
    "bins = getBins(events, df['Close'])\n",
    "bins['bin'].value_counts()\n",
    "\n",
    "df['log_ret'] = np.log(close).diff()\n",
    "df['vol5'] = df['log_ret'].rolling(5).std()\n",
    "df['vol10'] = df['log_ret'].rolling(10).std()\n",
    "\n",
    "df['serialcorr20-1'] = df['log_ret'].rolling(20).apply(lambda x: pd.Series(x).autocorr(lag=1))\n",
    "\n",
    "\n",
    "df = df.shift()\n",
    "\n",
    "from sklearn.ensemble import RandomForestClassifier\n",
    "\n",
    "train_features = df.loc[events.index][['side', 'vol5', 'serialcorr20-1']]\n",
    "train_labels = bins['bin']\n",
    "\n",
    "rf = RandomForestClassifier(n_estimators=512, random_state=42, max_depth=5, oob_score=True)\n",
    "rf.fit(train_features, train_labels)"
   ]
  },
  {
   "cell_type": "code",
   "execution_count": 6,
   "metadata": {},
   "outputs": [],
   "source": [
    "from sklearn.model_selection import cross_validate, KFold\n",
    "\n",
    "cvd = cross_validate(rf, train_features, train_labels, cv=KFold(10))"
   ]
  },
  {
   "cell_type": "code",
   "execution_count": 7,
   "metadata": {},
   "outputs": [
    {
     "data": {
      "text/plain": [
       "0.6983229813664596"
      ]
     },
     "execution_count": 7,
     "metadata": {},
     "output_type": "execute_result"
    }
   ],
   "source": [
    "cvd['test_score'].mean()"
   ]
  },
  {
   "cell_type": "markdown",
   "metadata": {},
   "source": [
    "# 7.2b\n",
    "\n",
    "Take a pair of matrices (X, y) representing observed features and labels. These could be one of the datasets derived from the exercises in Chapter 3.\n",
    "\n",
    "Derive the performance from a 10-fold CV of an RF classifier on (X, y), with shuffling."
   ]
  },
  {
   "cell_type": "code",
   "execution_count": 8,
   "metadata": {},
   "outputs": [],
   "source": [
    "cvd = cross_validate(rf, train_features, train_labels, cv=KFold(10, shuffle=True))"
   ]
  },
  {
   "cell_type": "code",
   "execution_count": 9,
   "metadata": {},
   "outputs": [
    {
     "data": {
      "text/plain": [
       "0.7011180124223603"
      ]
     },
     "execution_count": 9,
     "metadata": {},
     "output_type": "execute_result"
    }
   ],
   "source": [
    "cvd['test_score'].mean()"
   ]
  },
  {
   "cell_type": "markdown",
   "metadata": {},
   "source": [
    "# 7.2c\n",
    "\n",
    "Take a pair of matrices (X, y) representing observed features and labels. These could be one of the datasets derived from the exercises in Chapter 3.\n",
    "\n",
    "Why are both results so different?"
   ]
  },
  {
   "cell_type": "markdown",
   "metadata": {},
   "source": [
    "**A: Shuffling introduces information from the future into our training set.**"
   ]
  },
  {
   "cell_type": "markdown",
   "metadata": {},
   "source": [
    "# 7.2d\n",
    "\n",
    "Take a pair of matrices (X, y) representing observed features and labels. These could be one of the datasets derived from the exercises in Chapter 3.\n",
    "\n",
    "How does shuffling leak information?"
   ]
  },
  {
   "cell_type": "markdown",
   "metadata": {},
   "source": [
    "**A: The model is able to train on data from the future.**"
   ]
  },
  {
   "cell_type": "markdown",
   "metadata": {},
   "source": [
    "# 7.3a\n",
    "\n",
    "Take the same pair of matrices (X, y) you used in exercise 2.\n",
    "\n",
    "Derive the performance from a 10-fold purged CV of an RF on (X, y), with 1% embargo."
   ]
  },
  {
   "cell_type": "code",
   "execution_count": 70,
   "metadata": {},
   "outputs": [
    {
     "name": "stdout",
     "output_type": "stream",
     "text": [
      "The mean CV performance is 0.70.\n"
     ]
    }
   ],
   "source": [
    "from sklearn.model_selection._split import _BaseKFold\n",
    "from sklearn.metrics import log_loss, accuracy_score\n",
    "from cv import cvScore\n",
    "\n",
    "cvd = cvScore(rf, train_features, train_labels, pctEmbargo=0.01,\n",
    "              sample_weight=None, cv=10,\n",
    "              t1=pd.Series(train_features.index, index=train_features.index),\n",
    "              scoring='accuracy'\n",
    "             )\n",
    "print(\"The mean CV performance is {:.2f}.\".format(np.mean(cvd)))\n"
   ]
  },
  {
   "cell_type": "code",
   "execution_count": 72,
   "metadata": {},
   "outputs": [
    {
     "data": {
      "image/png": "[encoded data removed]",
      "text/plain": [
       "<Figure size 1152x432 with 1 Axes>"
      ]
     },
     "metadata": {},
     "output_type": "display_data"
    }
   ],
   "source": [
    "# Just for fun\n",
    "sns.distplot(cvd);"
   ]
  },
  {
   "cell_type": "markdown",
   "metadata": {},
   "source": [
    "# 7.4\n",
    "\n",
    "In this chapter we have focused on one reason why k-fold CV fails in financial applications, namely the fact that some information from the testing set leaks into the training set. Can you think of a second reason for CV's failure?"
   ]
  },
  {
   "cell_type": "markdown",
   "metadata": {},
   "source": [
    "**A: Overfitting due to multiple train/test bias (explored further in chapters 11-13)**"
   ]
  },
  {
   "cell_type": "markdown",
   "metadata": {},
   "source": [
    "# 7.5\n",
    "\n",
    "Suppose you try one thousand configurations of the same investment strategy, and perform CV on each of them. Some results are guaranteed to look good, just by sheer luck. If you only publish those positive, and hide the rest, your audience will not be able to deduce that these results are false positives, a statistical fluke. This phenomenon is called \"selection bias.\"\n",
    "\n",
    "- a) Can you imagine one procedure to prevent this?\n",
    "\n",
    "- **A: Publish the amount of trials it took to get the results**\n",
    "\n",
    "- b) What if we split the dataset in three sets: training, validation, and testing? The validation set is used to evaluate the trained parameters, and the testing is run only on the one configuration chosen in the validation phase. In what case does this procedure still fail?\n",
    "\n",
    "- **A: If repeatedly test against the 3rd set, we can still bias our results.**\n",
    "\n",
    "- c) What is the key to avoiding selection bias?\n",
    "\n",
    "- **A: Taking the number of trials into account and not using backtests as a research tool.**"
   ]
  }
 ],
 "metadata": {
  "kernelspec": {
   "display_name": "Python 3",
   "language": "python",
   "name": "python3"
  },
  "language_info": {
   "codemirror_mode": {
    "name": "ipython",
    "version": 3
   },
   "file_extension": ".py",
   "mimetype": "text/x-python",
   "name": "python",
   "nbconvert_exporter": "python",
   "pygments_lexer": "ipython3",
   "version": "3.5.6"
  }
 },
 "nbformat": 4,
 "nbformat_minor": 2
}
