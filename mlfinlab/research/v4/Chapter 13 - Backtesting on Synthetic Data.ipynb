{
 "cells": [
  {
   "cell_type": "code",
   "execution_count": 1,
   "metadata": {},
   "outputs": [],
   "source": [
    "import pandas as pd\n",
    "import numpy as np\n",
    "from random import gauss\n",
    "from itertools import product\n",
    "import matplotlib.pyplot as plt\n",
    "import seaborn as sns\n",
    "\n",
    "%load_ext autoreload\n",
    "%autoreload 2\n",
    "\n",
    "def main():\n",
    "    rPT = rSLm = np.linspace(0, 10, 21)\n",
    "    count = 0\n",
    "    for prod_ in product([10, 5, 0, -5, -10], [5, 10, 25, 50, 100]):\n",
    "        count += 1\n",
    "        coeffs = {'forecast': prod_[0], 'hl': prod_[1], 'sigma': 1}\n",
    "        output = batch(coeffs, nIter=1e5, maxHP=100, rPT=rPT, rSLm=rSLm)\n",
    "    return output\n",
    "\n",
    "def batch(coeffs, nIter=1e5, maxHP=100, rPT=np.linspace(0.5, 10, 20), rSLm=np.linspace(0.5, 10, 20), seed=0):\n",
    "    phi = 2 ** (-1.0 / coeffs['hl'])\n",
    "    output1 = []\n",
    "    for comb_ in product(rPT, rSLm):\n",
    "        output2 = []\n",
    "        for iter_ in range(int(nIter)):\n",
    "            p, hp, count = seed, 0, 0\n",
    "            while True:\n",
    "                p = (1 - phi) * coeffs['forecast'] + phi * p + coeffs['sigma'] * gauss(0, 1)\n",
    "                cP = p - seed\n",
    "                hp += 1\n",
    "                if cP > comb_[0] or cP < -comb_[1] or hp > maxHP:\n",
    "                    output2.append(cP)\n",
    "                    break\n",
    "        mean, std = np.mean(output2), np.std(output2)\n",
    "        print(comb_[0], comb_[1], mean, std, mean / std)\n",
    "        output1.append((comb_[0], comb_[1], mean, std, mean / std))\n",
    "    return output1\n"
   ]
  },
  {
   "cell_type": "markdown",
   "metadata": {},
   "source": [
    "# 13.1.a\n",
    "\n",
    "Suppose you are an execution trader. A client class you with an order to cover a short position she entered at a price of 100. She gives you two exit conditions: profit-taking at 90 and a stop-loss at 105.\n",
    "\n",
    "Assuming the client belieces the price follows an O-U process, are these levels reasonable? "
   ]
  },
  {
   "cell_type": "markdown",
   "metadata": {},
   "source": [
    "**A: These levels appear to work well for Forecast values of -5 and all H-L values and Forecast values of -10 with H-L values between 25 and 100.**"
   ]
  },
  {
   "cell_type": "markdown",
   "metadata": {},
   "source": [
    "# 13.1.b\n",
    "\n",
    "Suppose you are an execution trader. A client class you with an order to cover a short position she entered at a price of 100. She gives you two exit conditions: profit-taking at 90 and a stop-loss at 105.\n",
    "\n",
    "Can you think of an alternative stochastic process under which these levels make sense?"
   ]
  },
  {
   "cell_type": "markdown",
   "metadata": {},
   "source": [
    "# 13.2.a\n",
    "\n",
    "Fit the time series of dollar bars of E-mini S&P 500 futures to an O-U process. Given those parameters:\n",
    "\n",
    "Produce a heat-map of Sharpe ratios for various profit-taking and stop-loss levels.\n"
   ]
  },
  {
   "cell_type": "code",
   "execution_count": 2,
   "metadata": {},
   "outputs": [],
   "source": [
    "def gen_the_heat(forecast, hl, sigma=1):\n",
    "    rPT = rSLm = np.linspace(0, 10, 21)\n",
    "    coeffs = {'forecast': forecast, 'hl': hl, 'sigma': sigma}\n",
    "    output = batch(coeffs, nIter=1e5, maxHP=100, rPT=rPT, rSLm=rSLm)\n",
    "    return output\n",
    "\n",
    "def pump_heatmap(coeffs, outputs):\n",
    "    heatdf = pd.DataFrame(outputs)\n",
    "    heatdfp = heatdf.pivot(1, 0, 4)\n",
    "    plt.subplots() # give us a new figure\n",
    "    return sns.heatmap(heatdfp.sort_index(ascending=False))\n",
    "\n",
    "    "
   ]
  },
  {
   "cell_type": "code",
   "execution_count": null,
   "metadata": {
    "collapsed": true
   },
   "outputs": [
    {
     "name": "stderr",
     "output_type": "stream",
     "text": [
      "2019-11-22 10:33:51.311041 50.0% bbatch done after 2.48 minutes. Remaining 2.48 minutes..\r"
     ]
    }
   ],
   "source": [
    "from multiprocess import mpPandasObj\n",
    "from synthetic_data import process_batch\n",
    "runs = range(1,7)\n",
    "rPT = rSLm = np.linspace(0, 10, 21)\n",
    "coeffs_list = [{'forecast': x, 'hl': x, 'sigma': 1} for x in runs]\n",
    "\n",
    "ret = mpPandasObj(process_batch, ('coeffs_list', coeffs_list), numThreads=6, linMols=True, nIter=1e4, maxHP=100, rPT=rPT, rSLm=rSLm)\n"
   ]
  },
  {
   "cell_type": "code",
   "execution_count": null,
   "metadata": {},
   "outputs": [],
   "source": [
    "for coeffs, outputs in [x[0] for x in ret[1:]]:\n",
    "    ax = pump_heatmap(coeffs, outputs)\n"
   ]
  },
  {
   "cell_type": "markdown",
   "metadata": {},
   "source": [
    "# 13.2.b\n",
    "\n",
    "Fit the time series of dollar bars of E-mini S&P 500 futures to an O-U process. Given those parameters:\n",
    "\n",
    "What is the OTR?\n"
   ]
  },
  {
   "cell_type": "markdown",
   "metadata": {},
   "source": [
    "**A: TODO: Figure out a good way of fitting to an O-U process.**\n"
   ]
  },
  {
   "cell_type": "markdown",
   "metadata": {},
   "source": [
    "# 13.3.a\n",
    "\n",
    "Repeat exercise 2, this time on a time series of dollar bars of\n",
    "\n",
    "10-year U.S. Treasury Note futures\n"
   ]
  },
  {
   "cell_type": "markdown",
   "metadata": {},
   "source": [
    "# 13.3.b\n",
    "\n",
    "Repeat exercise 2, this time on a time series of dollar bars of\n",
    "\n",
    "WTI Crude Oil futures\n"
   ]
  },
  {
   "cell_type": "markdown",
   "metadata": {},
   "source": [
    "# 13.3.c\n",
    "\n",
    "Repeat exercise 2, this time on a time series of dollar bars of\n",
    "\n",
    "Are the results significantly different? Does this justify having execution traders specialized by product?\n"
   ]
  },
  {
   "cell_type": "markdown",
   "metadata": {},
   "source": [
    "# 13.4.a\n",
    "\n",
    "Repeat exercise 2 after splitting the time series into two parts:\n",
    "\n",
    "The first time series ends on 3/15/2009.\n"
   ]
  },
  {
   "cell_type": "markdown",
   "metadata": {},
   "source": [
    "# 13.4.b\n",
    "\n",
    "Repeat exercise 2 after splitting the time series into two parts:\n",
    "\n",
    "The second time series starts on 3/16/2009.\n"
   ]
  },
  {
   "cell_type": "markdown",
   "metadata": {},
   "source": [
    "# 13.4.c\n",
    "\n",
    "Repeat exercise 2 after splitting the time series into two parts:\n",
    "\n",
    "Are the OTRs significantly different?\n"
   ]
  },
  {
   "cell_type": "markdown",
   "metadata": {},
   "source": [
    "# 13.5\n",
    "\n",
    "How long do you estimate it would take to derive OTRs on the 100 most liquid futures contracts worldwide? Considering the results from exercise 4, how often do you think you may have to re-calibrate the OTRs? Does it make sense to precompute this data?"
   ]
  },
  {
   "cell_type": "markdown",
   "metadata": {},
   "source": [
    "# 13.6\n",
    "\n",
    "Parallelize Snippets 13.1 and 13.2 using the `mpEngine` module described in Chapter 20."
   ]
  },
  {
   "cell_type": "markdown",
   "metadata": {},
   "source": [
    "**A: Code in synthetic_data.py**"
   ]
  }
 ],
 "metadata": {
  "kernelspec": {
   "display_name": "Python 3",
   "language": "python",
   "name": "python3"
  },
  "language_info": {
   "codemirror_mode": {
    "name": "ipython",
    "version": 3
   },
   "file_extension": ".py",
   "mimetype": "text/x-python",
   "name": "python",
   "nbconvert_exporter": "python",
   "pygments_lexer": "ipython3",
   "version": "3.5.6"
  }
 },
 "nbformat": 4,
 "nbformat_minor": 2
}
