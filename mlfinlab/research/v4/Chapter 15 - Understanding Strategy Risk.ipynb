{
 "cells": [
  {
   "cell_type": "code",
   "execution_count": 2,
   "metadata": {},
   "outputs": [],
   "source": [
    "import pandas as pd\n",
    "import numpy as np\n",
    "import matplotlib\n",
    "import matplotlib.pyplot as mpl\n",
    "\n",
    "%matplotlib inline\n",
    "mpl.style.use('ggplot')\n",
    "mpl.rcParams['figure.figsize'] = 16,6\n"
   ]
  },
  {
   "cell_type": "markdown",
   "metadata": {},
   "source": [
    "# 15.1.a\n",
    "\n",
    "A portfolio manager intends to launch a strategy that targets an annualized SR of 2. Bets have a precision rate of 60%, with weekly frequency. The exit conditions are 2% for profit taking and -2% for stop-loss.\n",
    "\n",
    "Is this strategy viable?"
   ]
  },
  {
   "cell_type": "code",
   "execution_count": 3,
   "metadata": {},
   "outputs": [],
   "source": [
    "def run_sr_trials(p, pt=1, sl=1, trials=100000):\n",
    "    out = []\n",
    "    for i in range(trials):\n",
    "        rnd = np.random.binomial(n=1, p=p)\n",
    "        x = (pt if rnd == 1 else -sl)\n",
    "        out.append(x)\n",
    "    return np.mean(out) / np.std(out)"
   ]
  },
  {
   "cell_type": "code",
   "execution_count": 32,
   "metadata": {},
   "outputs": [
    {
     "name": "stdout",
     "output_type": "stream",
     "text": [
      "As stated the strategy is expected to achieve an annualized SR of ~1.488.\n"
     ]
    }
   ],
   "source": [
    "p = 0.6\n",
    "freq = 52\n",
    "sr = run_sr_trials(p, trials=100000)\n",
    "print(\"As stated the strategy is expected to achieve an annualized SR of ~{:.3f}.\".format(float(np.sqrt(freq) * sr)))"
   ]
  },
  {
   "cell_type": "markdown",
   "metadata": {},
   "source": [
    "# 15.1.b\n",
    "\n",
    "A portfolio manager intends to launch a strategy that targets an annualized SR of 2. Bets have a precision rate of 60%, with weekly frequency. The exit conditions are 2% for profit taking and -2% for stop-loss.\n",
    "\n",
    "*Ceteris paribus*, what is the required precision rate that would make the strategy profitable?"
   ]
  },
  {
   "cell_type": "code",
   "execution_count": 12,
   "metadata": {},
   "outputs": [
    {
     "name": "stdout",
     "output_type": "stream",
     "text": [
      "Achieving an annualized SR of 2 while keeping the other values the same would require a precision rate of 0.642.\n"
     ]
    }
   ],
   "source": [
    "for p_ in np.linspace(0.55, 1.0, 50):\n",
    "    sr = run_sr_trials(p_, trials=100000)\n",
    "    if np.sqrt(freq) * sr > 2:\n",
    "        break\n",
    "         \n",
    "print(\"Achieving an annualized SR of 2 while keeping the other values the same would require a precision rate of {:.3f}.\".format(p_))\n"
   ]
  },
  {
   "cell_type": "markdown",
   "metadata": {},
   "source": [
    "# 15.1.c\n",
    "\n",
    "A portfolio manager intends to launch a strategy that targets an annualized SR of 2. Bets have a precision rate of 60%, with weekly frequency. The exit conditions are 2% for profit taking and -2% for stop-loss.\n",
    "\n",
    "For what betting frequency is the target achievable?"
   ]
  },
  {
   "cell_type": "code",
   "execution_count": 16,
   "metadata": {},
   "outputs": [
    {
     "name": "stdout",
     "output_type": "stream",
     "text": [
      "Achieving an annualized SR of 2 while keeping the other values the same would require a betting frequency of 96 trades per year.\n"
     ]
    }
   ],
   "source": [
    "sr = run_sr_trials(p, trials=1000000)\n",
    "target_sr = 2\n",
    "freq_ = (target_sr / sr) ** 2\n",
    "print(\"Achieving an annualized SR of 2 while keeping the other values the same would require a betting frequency of {:.0f} trades per year.\".format(freq_))\n"
   ]
  },
  {
   "cell_type": "markdown",
   "metadata": {},
   "source": [
    "# 15.1.d\n",
    "\n",
    "A portfolio manager intends to launch a strategy that targets an annualized SR of 2. Bets have a precision rate of 60%, with weekly frequency. The exit conditions are 2% for profit taking and -2% for stop-loss.\n",
    "\n",
    "For what profit-taking threshold is the target achievable?"
   ]
  },
  {
   "cell_type": "code",
   "execution_count": 19,
   "metadata": {},
   "outputs": [
    {
     "name": "stdout",
     "output_type": "stream",
     "text": [
      "Achieving an annualized SR of 2 while keeping the other values the same would require a profit take limit of 2.30%.\n"
     ]
    }
   ],
   "source": [
    "pt = 2\n",
    "sl = 2\n",
    "for pt_ in np.linspace(2, 4, 200):\n",
    "    sr = run_sr_trials(p, pt_, sl, 100000)\n",
    "    if np.sqrt(freq) * sr > 2:\n",
    "        break\n",
    "         \n",
    "print(\"Achieving an annualized SR of 2 while keeping the other values the same would require a profit take limit of {:.2f}%.\".format(pt_))\n"
   ]
  },
  {
   "cell_type": "markdown",
   "metadata": {},
   "source": [
    "# 15.1.e\n",
    "\n",
    "A portfolio manager intends to launch a strategy that targets an annualized SR of 2. Bets have a precision rate of 60%, with weekly frequency. The exit conditions are 2% for profit taking and -2% for stop-loss.\n",
    "\n",
    "What would be an alternative stop-loss?"
   ]
  },
  {
   "cell_type": "code",
   "execution_count": 20,
   "metadata": {},
   "outputs": [
    {
     "name": "stdout",
     "output_type": "stream",
     "text": [
      "Achieving an annualized SR of 2 while keeping the other values the same would require a stop loss limit of 1.74%.\n"
     ]
    }
   ],
   "source": [
    "for sl_ in np.linspace(2, 1, 200):\n",
    "    sr = run_sr_trials(p, pt, sl_, 100000)\n",
    "    if np.sqrt(freq) * sr > 2:\n",
    "        break\n",
    "         \n",
    "print(\"Achieving an annualized SR of 2 while keeping the other values the same would require a stop loss limit of {:.2f}%.\".format(sl_))\n"
   ]
  },
  {
   "cell_type": "markdown",
   "metadata": {},
   "source": [
    "# 15.2.a\n",
    "\n",
    "Following up on the strategy from exercise 1.\n",
    "\n",
    "What is the sensitivity of SR to a 1% change in each parameter?"
   ]
  },
  {
   "cell_type": "code",
   "execution_count": 11,
   "metadata": {},
   "outputs": [
    {
     "name": "stdout",
     "output_type": "stream",
     "text": [
      "freq 0.003589926917184778\n",
      "p    0.02066441077148859\n",
      "pt   0.007574011138762322\n",
      "sl   0.006222697554722991\n"
     ]
    }
   ],
   "source": [
    "p = 0.55\n",
    "pt = 2\n",
    "sl = 2\n",
    "freq = 52\n",
    "\n",
    "def jiggle(v):\n",
    "    return [v * 0.99, v, v * 1.01]\n",
    "\n",
    "print('freq', pd.Series([np.sqrt(freq_) * run_sr_trials(p, pt, sl, 10000000) for freq_ in jiggle(freq)]).pct_change().std())\n",
    "print('p   ', pd.Series([np.sqrt(freq) * run_sr_trials(p_, pt, sl, 10000000) for p_ in jiggle(p)]).pct_change().std())\n",
    "print('pt  ', pd.Series([np.sqrt(freq) * run_sr_trials(p, pt_, sl, 10000000) for pt_ in jiggle(pt)]).pct_change().std())\n",
    "print('sl  ', pd.Series([np.sqrt(freq) * run_sr_trials(p, pt, sl_, 10000000) for sl_ in jiggle(sl)]).pct_change().std())\n",
    "\n"
   ]
  },
  {
   "cell_type": "code",
   "execution_count": 144,
   "metadata": {},
   "outputs": [
    {
     "name": "stdout",
     "output_type": "stream",
     "text": [
      "The SR is most sensitive to changes in precision\n"
     ]
    }
   ],
   "source": [
    "print(\"The SR is most sensitive to changes in precision.\")"
   ]
  },
  {
   "cell_type": "markdown",
   "metadata": {},
   "source": [
    "# 15.2.b\n",
    "\n",
    "Following up on the strategy from exercise 1.\n",
    "\n",
    "Given these sensitivies, and assuming that all parameters are equally hard to improve, which one offers the lowest hanging fruit?"
   ]
  },
  {
   "cell_type": "markdown",
   "metadata": {},
   "source": [
    "**A: Under these assumptions -- precision.**"
   ]
  },
  {
   "cell_type": "markdown",
   "metadata": {},
   "source": [
    "# 15.2.c\n",
    "\n",
    "Following up on the strategy from exercise 1.\n",
    "\n",
    "Does changing any of the parameters in exercise 1 impact the others? For example, does changing the betting frequency modify the precision rate, etc.?"
   ]
  },
  {
   "cell_type": "markdown",
   "metadata": {},
   "source": [
    "**A: In this experiment the parameters function independent of one another. In real life, changing profit-take & stop-loss parameters would very likely impact precision and betting frequency.**"
   ]
  },
  {
   "cell_type": "markdown",
   "metadata": {},
   "source": [
    "# 15.3.a\n",
    "\n",
    "Suppose a strategy that generates monthly bets over two years, with returns following a mixture of two Gaussians distributions. The first distribution has a mean of -0.1 and a standard deviation of 0.12. The second distribution has a mean of 0.06 and a standard deviation of 0.03. The probability that a draw comes from the first distribution is 0.15.\n",
    "\n",
    "Following Lopez de Prado and Peijan [2004] and Lopez de Prado and Foreman [2014], derive the first 4 moments for the mixture's returns."
   ]
  },
  {
   "cell_type": "markdown",
   "metadata": {},
   "source": [
    "# 15.3.b\n",
    "\n",
    "Suppose a strategy that generates monthly bets over two years, with returns following a mixture of two Gaussians distributions. The first distribution has a mean of -0.1 and a standard deviation of 0.12. The second distribution has a mean of 0.06 and a standard deviation of 0.03. The probability that a draw comes from the first distribution is 0.15.\n",
    "\n",
    "What is the annualized SR?"
   ]
  },
  {
   "cell_type": "code",
   "execution_count": 22,
   "metadata": {},
   "outputs": [],
   "source": [
    "import scipy.stats as ss\n",
    "\n",
    "def binHR(sl, pt, freq, tSR):\n",
    "    '''\n",
    "    Given a trading rule characterized by the parameters {sl, pt, freq},\n",
    "    what's the min precision p required to achieve a Sharpe ratio tSR?\n",
    "    1) Inputs\n",
    "    sl: stop loss threshold\n",
    "    pt: profit taking threshold\n",
    "    freq: number of bets per year\n",
    "    tSR: target annual Sharpe ratio\n",
    "    2) Output\n",
    "    p: the min precision rate p required to achieve tSR\n",
    "    '''\n",
    "    a = (freq + tSR ** 2) * (pt - sl) ** 2\n",
    "    b = (2 * freq * sl - tSR ** 2 * (pt - sl)) * (pt - sl)\n",
    "    c = freq * sl ** 2\n",
    "    p = (-b + (b ** 2 - 4 * a * c) ** 0.5) / (2.0 * a)\n",
    "    return p\n",
    "\n",
    "def binFreq(sl, pt, p, tSR):\n",
    "    ''' \n",
    "    Given a trading rule characterized by the parameters {sl, pt, freq}, what's the number\n",
    "    of bets/year needed to achieve a Sharpe ratio tSR with precision rate p?\n",
    "    Note: Equation with radicals, check for extraneous solution. \n",
    "    1) Inputs\n",
    "    sl: stop loss threshold\n",
    "    pt: profit taking threshold\n",
    "    p: precision rate\n",
    "    tSR: target annual Sharpe ratio\n",
    "    2) Output\n",
    "    freq: number of bets per year needed\n",
    "    '''\n",
    "    freq = (tSR * (pt - sl)) ** 2 * p * (1 - p) / ((pt - sl) * p + sl) ** 2 # possible extraneous\n",
    "    if not np.isclose(binSR(sl, pt, freq, p), tSR):\n",
    "        return\n",
    "    return freq\n",
    "\n",
    "def mixGaussians(mu1, mu2, sigma1, sigma2, prob1, nObs):\n",
    "    # Random draws from a mixture of gaussians\n",
    "    ret1 = np.random.normal(mu1, sigma1, size=int(nObs * prob1))\n",
    "    ret2 = np.random.normal(mu2, sigma2, size=int(nObs) - ret1.shape[0])\n",
    "    ret = np.append(ret1, ret2, axis=0)\n",
    "    np.random.shuffle(ret)\n",
    "    return ret\n",
    "\n",
    "def probFailure(ret, freq, tSR):\n",
    "    # Derive probability that the strategy may fail\n",
    "    rPos, rNeg = ret[ret > 0].mean(), ret[ret <= 0].mean()\n",
    "    p = ret[ret > 0].shape[0] / float(ret.shape[0])\n",
    "    thresP = binHR(rNeg, rPos, freq, tSR)\n",
    "    risk = ss.norm.cdf(thresP, p, p * (1 - p))\n",
    "    return risk\n",
    "\n",
    "mu1, mu2, sigma1, sigma2, prob1, nObs = -0.1, 0.06, 0.12, 0.03, 0.15, 100000\n",
    "ret = mixGaussians(mu1, mu2, sigma1, sigma2, prob1, nObs)\n"
   ]
  },
  {
   "cell_type": "code",
   "execution_count": 23,
   "metadata": {},
   "outputs": [
    {
     "name": "stdout",
     "output_type": "stream",
     "text": [
      "The annualized SR is 1.58\n"
     ]
    }
   ],
   "source": [
    "sr = np.mean(ret) / np.std(ret)\n",
    "asr = np.sqrt(12) * sr\n",
    "print(\"The annualized SR is {:.2f}.\".format(asr))"
   ]
  },
  {
   "cell_type": "markdown",
   "metadata": {},
   "source": [
    "# 15.3.c\n",
    "\n",
    "Suppose a strategy that generates monthly bets over two years, with returns following a mixture of two Gaussians distributions. The first distribution has a mean of -0.1 and a standard deviation of 0.12. The second distribution has a mean of 0.06 and a standard deviation of 0.03. The probability that a draw comes from the first distribution is 0.15.\n",
    "\n",
    "Using these moments, compute PSR[1] (see Chapter 14). At a 95% confidence interval, would you discard this strategy?"
   ]
  },
  {
   "cell_type": "code",
   "execution_count": 33,
   "metadata": {},
   "outputs": [
    {
     "name": "stdout",
     "output_type": "stream",
     "text": [
      "The PSR is 1.0.\n"
     ]
    }
   ],
   "source": [
    "from stats import psr\n",
    "ret = pd.Series(ret)\n",
    "print(\"The PSR is {}.\".format(psr(sr, len(ret), ret.skew(), ret.kurtosis())))"
   ]
  },
  {
   "cell_type": "markdown",
   "metadata": {},
   "source": [
    "# 15.4\n",
    "\n",
    "Using Snippet 15.5, compute $P[p \\lt p_{\\theta*=1}]$ for the strategy described in exercise 3. At a significance level of 0.05, would you discard this strategy? Is this result consistent with $PSR[\\theta*]$?"
   ]
  },
  {
   "cell_type": "code",
   "execution_count": 31,
   "metadata": {},
   "outputs": [
    {
     "name": "stdout",
     "output_type": "stream",
     "text": [
      "The strategy is estimated to fail 41.09% of the time.\n"
     ]
    }
   ],
   "source": [
    "# 1) Parameters\n",
    "mu1, mu2, sigma1, sigma2, prob1, nObs = -0.1, 0.06, 0.12, 0.03, 0.15, 100000\n",
    "tSR, freq = asr, 12\n",
    "# 2) Generate sample from mixture\n",
    "ret = mixGaussians(mu1, mu2, sigma1, sigma2, prob1, nObs)\n",
    "# 3) Compute prob failure\n",
    "probF = probFailure(ret, freq, tSR)\n",
    "print(\"The strategy is estimated to fail {:.2%} of the time.\".format(probF))\n"
   ]
  },
  {
   "cell_type": "markdown",
   "metadata": {},
   "source": [
    "# 15.5\n",
    "\n",
    "In general what result do you expect to be more accurate, $PSR[\\theta*]$ or $P[p \\lt p_{\\theta*=1}]$? How are these two methods complementary?"
   ]
  },
  {
   "cell_type": "markdown",
   "metadata": {},
   "source": [
    "# 15.6.a\n",
    "\n",
    "Re-examine the results from Chapter 13, in light of what you have learned in this chapter. \n",
    "\n",
    "Does the asymmetry between profit taking and stop-loss thresholds in OTRs make sense?"
   ]
  },
  {
   "cell_type": "markdown",
   "metadata": {},
   "source": [
    "# 15.6.b\n",
    "\n",
    "Re-examine the results from Chapter 13, in light of what you have learned in this chapter. \n",
    "\n",
    "What is the range of $p$ implied by Figure 13.1, for a daily betting frequency?"
   ]
  },
  {
   "cell_type": "markdown",
   "metadata": {},
   "source": [
    "# 15.6.c\n",
    "\n",
    "Re-examine the results from Chapter 13, in light of what you have learned in this chapter. \n",
    "\n",
    "What is the range of $p$ implied by Figure 13.5, for a weekly betting frequency?"
   ]
  }
 ],
 "metadata": {
  "kernelspec": {
   "display_name": "Python 3",
   "language": "python",
   "name": "python3"
  },
  "language_info": {
   "codemirror_mode": {
    "name": "ipython",
    "version": 3
   },
   "file_extension": ".py",
   "mimetype": "text/x-python",
   "name": "python",
   "nbconvert_exporter": "python",
   "pygments_lexer": "ipython3",
   "version": "3.5.6"
  }
 },
 "nbformat": 4,
 "nbformat_minor": 2
}
