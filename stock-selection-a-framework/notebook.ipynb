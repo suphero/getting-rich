{
 "metadata": {
  "language_info": {
   "codemirror_mode": {
    "name": "ipython",
    "version": 3
   },
   "file_extension": ".py",
   "mimetype": "text/x-python",
   "name": "python",
   "nbconvert_exporter": "python",
   "pygments_lexer": "ipython3",
   "version": "3.7.3-final"
  },
  "orig_nbformat": 2,
  "kernelspec": {
   "name": "python3",
   "display_name": "Python 3"
  }
 },
 "nbformat": 4,
 "nbformat_minor": 2,
 "cells": [
  {
   "source": [
    "# A Machine Learning Framework for Stock Selection\n",
    "    \n",
    "Authors:\n",
    "XingYu Fu; JinHong Du; YiFeng Guo; MingWen Liu; Tao Dong; XiuWen Duan; \n",
    "\n",
    "Institutions:\n",
    "AI&Fintech Lab of Likelihood Technology; \n",
    "Gradient Trading;\n",
    "Sun Yat-sen University;\n",
    "\n",
    "Contact:\n",
    "fuxy28@mail2.sysu.edu.cn\n",
    "\n",
    "All Rights Reserved."
   ],
   "cell_type": "markdown",
   "metadata": {}
  },
  {
   "cell_type": "code",
   "execution_count": 1,
   "metadata": {},
   "outputs": [],
   "source": [
    "%%capture\n",
    "!pip install -r requirements.txt"
   ]
  },
  {
   "source": [
    "Import Modules"
   ],
   "cell_type": "markdown",
   "metadata": {}
  },
  {
   "cell_type": "code",
   "execution_count": 2,
   "metadata": {},
   "outputs": [],
   "source": [
    "# Numerical Computation\n",
    "import numpy as np\n",
    "# Data Processing\n",
    "import  data_pipeline\n",
    "# Evaluation\n",
    "from evaluation import EvaluationClass\n",
    "# Genetic Algorithm\n",
    "from GA import GA\n",
    "# Disk\n",
    "import pickle as pk"
   ]
  },
  {
   "source": [
    "Hyperparameter Specification"
   ],
   "cell_type": "markdown",
   "metadata": {}
  },
  {
   "cell_type": "code",
   "execution_count": 3,
   "metadata": {},
   "outputs": [],
   "source": [
    "Q = 0.05 # Tail Quantile\n",
    "F = 3 # Length of Forword Window\n",
    "train_start = \"20170726\" # The Starting Point of Training Dataset\n",
    "train_sample_num = 30 # The number of training ( factor, performance) pairs\n",
    "test_start = \"20180118\" # The Starting Point of Testing Dataset\n",
    "test_sample_num = 5 # The number of training ( factor, performance) pairs"
   ]
  },
  {
   "source": [
    "Loading Data"
   ],
   "cell_type": "markdown",
   "metadata": {}
  },
  {
   "cell_type": "code",
   "execution_count": 4,
   "metadata": {},
   "outputs": [
    {
     "output_type": "stream",
     "name": "stdout",
     "text": [
      "- Loading Data\n"
     ]
    }
   ],
   "source": [
    "print(\"- Loading Data\")\n",
    "#X_train, Y_train = data_pipeline.load_tail( train_start, train_sample_num, F, Q)\n",
    "#X_test, Y_test = data_pipeline.load_tail( test_start, test_sample_num, F, Q)\n",
    "#X_test_portfolio, Y_test_portfolio = data_pipeline.load_whole( test_start, F)\n",
    "with open('data1.pkl','rb') as f:\n",
    "    data1 = pk.load(f)\n",
    "X_train, Y_train, X_test, Y_test = data1\n",
    "\n",
    "with open('data2.pkl','rb') as f:\n",
    "    data2 = pk.load(f)\n",
    "X_test_portfolio, Y_test_portfolio = data2"
   ]
  },
  {
   "source": [
    "Logistic Regression based Stock Selection"
   ],
   "cell_type": "markdown",
   "metadata": {}
  },
  {
   "cell_type": "code",
   "execution_count": 5,
   "metadata": {},
   "outputs": [
    {
     "output_type": "stream",
     "name": "stdout",
     "text": [
      "- Logistic Regression based Stock Selection\n",
      "Epoch 1/20\n",
      "75/75 [==============================] - 0s 4ms/step - loss: 0.5297 - accuracy: 0.7968\n",
      "Epoch 2/20\n",
      "75/75 [==============================] - 0s 3ms/step - loss: 0.3474 - accuracy: 0.9068\n",
      "Epoch 3/20\n",
      "75/75 [==============================] - 0s 3ms/step - loss: 0.2914 - accuracy: 0.9174\n",
      "Epoch 4/20\n",
      "75/75 [==============================] - 0s 3ms/step - loss: 0.2622 - accuracy: 0.9219\n",
      "Epoch 5/20\n",
      "75/75 [==============================] - 0s 4ms/step - loss: 0.2435 - accuracy: 0.9254\n",
      "Epoch 6/20\n",
      "75/75 [==============================] - 0s 3ms/step - loss: 0.2308 - accuracy: 0.9273\n",
      "Epoch 7/20\n",
      "75/75 [==============================] - 0s 3ms/step - loss: 0.2213 - accuracy: 0.9306\n",
      "Epoch 8/20\n",
      "75/75 [==============================] - 0s 4ms/step - loss: 0.2137 - accuracy: 0.9320\n",
      "Epoch 9/20\n",
      "75/75 [==============================] - 0s 3ms/step - loss: 0.2075 - accuracy: 0.9336\n",
      "Epoch 10/20\n",
      "75/75 [==============================] - 0s 4ms/step - loss: 0.2024 - accuracy: 0.9340\n",
      "Epoch 11/20\n",
      "75/75 [==============================] - 0s 4ms/step - loss: 0.1981 - accuracy: 0.9351\n",
      "Epoch 12/20\n",
      "75/75 [==============================] - 0s 3ms/step - loss: 0.1943 - accuracy: 0.9360\n",
      "Epoch 13/20\n",
      "75/75 [==============================] - 0s 3ms/step - loss: 0.1912 - accuracy: 0.9359\n",
      "Epoch 14/20\n",
      "75/75 [==============================] - 0s 4ms/step - loss: 0.1884 - accuracy: 0.9361\n",
      "Epoch 15/20\n",
      "75/75 [==============================] - 0s 4ms/step - loss: 0.1858 - accuracy: 0.9367\n",
      "Epoch 16/20\n",
      "75/75 [==============================] - 0s 3ms/step - loss: 0.1836 - accuracy: 0.9372\n",
      "Epoch 17/20\n",
      "75/75 [==============================] - 0s 4ms/step - loss: 0.1814 - accuracy: 0.9379\n",
      "Epoch 18/20\n",
      "75/75 [==============================] - 0s 3ms/step - loss: 0.1797 - accuracy: 0.9386\n",
      "Epoch 19/20\n",
      "75/75 [==============================] - 0s 4ms/step - loss: 0.1780 - accuracy: 0.9386\n",
      "Epoch 20/20\n",
      "75/75 [==============================] - 0s 2ms/step - loss: 0.1766 - accuracy: 0.9386\n"
     ]
    }
   ],
   "source": [
    "print(\"- Logistic Regression based Stock Selection\")\n",
    "model_logistic = EvaluationClass( X_train, Y_train, X_test, Y_test, model_type = 1)\n",
    "LAccuracy, LPrecision, LRecall, LF1, LTPR, LFPR, LAUC = model_logistic.evalu_sta()"
   ]
  },
  {
   "source": [
    "Deep Learning based Stock Selection"
   ],
   "cell_type": "markdown",
   "metadata": {}
  },
  {
   "cell_type": "code",
   "execution_count": 6,
   "metadata": {},
   "outputs": [
    {
     "output_type": "stream",
     "name": "stdout",
     "text": [
      "- Deep Learning based Stock Selection\n",
      "Epoch 1/20\n",
      "75/75 [==============================] - 0s 6ms/step - loss: 3.0177 - accuracy: 0.7314\n",
      "Epoch 2/20\n",
      "75/75 [==============================] - 0s 5ms/step - loss: 2.7052 - accuracy: 0.8604\n",
      "Epoch 3/20\n",
      "75/75 [==============================] - 0s 6ms/step - loss: 2.5854 - accuracy: 0.8895\n",
      "Epoch 4/20\n",
      "75/75 [==============================] - 0s 5ms/step - loss: 2.4841 - accuracy: 0.9039\n",
      "Epoch 5/20\n",
      "75/75 [==============================] - 0s 5ms/step - loss: 2.4111 - accuracy: 0.9110\n",
      "Epoch 6/20\n",
      "75/75 [==============================] - 1s 7ms/step - loss: 2.3280 - accuracy: 0.9191\n",
      "Epoch 7/20\n",
      "75/75 [==============================] - 0s 5ms/step - loss: 2.2637 - accuracy: 0.9212\n",
      "Epoch 8/20\n",
      "75/75 [==============================] - 0s 5ms/step - loss: 2.1959 - accuracy: 0.9212\n",
      "Epoch 9/20\n",
      "75/75 [==============================] - 0s 5ms/step - loss: 2.1298 - accuracy: 0.9282\n",
      "Epoch 10/20\n",
      "75/75 [==============================] - 0s 6ms/step - loss: 2.0685 - accuracy: 0.9260\n",
      "Epoch 11/20\n",
      "75/75 [==============================] - 0s 5ms/step - loss: 2.0145 - accuracy: 0.9261\n",
      "Epoch 12/20\n",
      "75/75 [==============================] - 0s 6ms/step - loss: 1.9541 - accuracy: 0.9300\n",
      "Epoch 13/20\n",
      "75/75 [==============================] - 0s 5ms/step - loss: 1.8999 - accuracy: 0.9311\n",
      "Epoch 14/20\n",
      "75/75 [==============================] - 0s 5ms/step - loss: 1.8436 - accuracy: 0.9334\n",
      "Epoch 15/20\n",
      "75/75 [==============================] - 0s 5ms/step - loss: 1.7897 - accuracy: 0.9367\n",
      "Epoch 16/20\n",
      "75/75 [==============================] - 0s 5ms/step - loss: 1.7403 - accuracy: 0.9380\n",
      "Epoch 17/20\n",
      "75/75 [==============================] - 0s 5ms/step - loss: 1.6876 - accuracy: 0.9390\n",
      "Epoch 18/20\n",
      "75/75 [==============================] - 0s 5ms/step - loss: 1.6511 - accuracy: 0.9351\n",
      "Epoch 19/20\n",
      "75/75 [==============================] - 0s 5ms/step - loss: 1.6045 - accuracy: 0.9385\n",
      "Epoch 20/20\n",
      "75/75 [==============================] - 0s 5ms/step - loss: 1.5570 - accuracy: 0.9381\n"
     ]
    }
   ],
   "source": [
    "print(\"- Deep Learning based Stock Selection\")\n",
    "model_deep = EvaluationClass( X_train, Y_train, X_test, Y_test, model_type = 2)\n",
    "DAccuracy, DPrecision, DRecall, DF1, DTPR, DFPR, DAUC = model_deep.evalu_sta()"
   ]
  },
  {
   "source": [
    "Random Forest based Stock Selection"
   ],
   "cell_type": "markdown",
   "metadata": {}
  },
  {
   "cell_type": "code",
   "execution_count": 7,
   "metadata": {},
   "outputs": [
    {
     "output_type": "stream",
     "name": "stdout",
     "text": [
      "- Random Forest based Stock Selection\n"
     ]
    }
   ],
   "source": [
    "print(\"- Random Forest based Stock Selection\")\n",
    "model_forest = EvaluationClass( X_train, Y_train, X_test, Y_test, model_type = 3)\n",
    "RAccuracy, RPrecision, RRecall, RF1, RTPR, RFPR, RAUC = model_forest.evalu_sta()"
   ]
  },
  {
   "source": [
    "Stacking based Stock Selection"
   ],
   "cell_type": "markdown",
   "metadata": {}
  },
  {
   "cell_type": "code",
   "execution_count": 8,
   "metadata": {},
   "outputs": [
    {
     "output_type": "stream",
     "name": "stdout",
     "text": [
      "- Stacking based Stock Selection\n",
      "Epoch 1/30\n",
      "15/15 [==============================] - 0s 2ms/step - loss: 0.8553 - accuracy: 0.1826\n",
      "Epoch 2/30\n",
      "15/15 [==============================] - 0s 5ms/step - loss: 0.7023 - accuracy: 0.3389\n",
      "Epoch 3/30\n",
      "15/15 [==============================] - 0s 2ms/step - loss: 0.5963 - accuracy: 0.5163\n",
      "Epoch 4/30\n",
      "15/15 [==============================] - 0s 2ms/step - loss: 0.5289 - accuracy: 0.7114\n",
      "Epoch 5/30\n",
      "15/15 [==============================] - 0s 4ms/step - loss: 0.4778 - accuracy: 0.9517\n",
      "Epoch 6/30\n",
      "15/15 [==============================] - 0s 2ms/step - loss: 0.4358 - accuracy: 0.9586\n",
      "Epoch 7/30\n",
      "15/15 [==============================] - 0s 4ms/step - loss: 0.4009 - accuracy: 0.9570\n",
      "Epoch 8/30\n",
      "15/15 [==============================] - 0s 2ms/step - loss: 0.3711 - accuracy: 0.9586\n",
      "Epoch 9/30\n",
      "15/15 [==============================] - 0s 3ms/step - loss: 0.3462 - accuracy: 0.9586\n",
      "Epoch 10/30\n",
      "15/15 [==============================] - 0s 3ms/step - loss: 0.3248 - accuracy: 0.9591\n",
      "Epoch 11/30\n",
      "15/15 [==============================] - 0s 3ms/step - loss: 0.3065 - accuracy: 0.9596\n",
      "Epoch 12/30\n",
      "15/15 [==============================] - 0s 3ms/step - loss: 0.2908 - accuracy: 0.9607\n",
      "Epoch 13/30\n",
      "15/15 [==============================] - 0s 4ms/step - loss: 0.2769 - accuracy: 0.9601\n",
      "Epoch 14/30\n",
      "15/15 [==============================] - 0s 3ms/step - loss: 0.2650 - accuracy: 0.9607\n",
      "Epoch 15/30\n",
      "15/15 [==============================] - 0s 2ms/step - loss: 0.2543 - accuracy: 0.9601\n",
      "Epoch 16/30\n",
      "15/15 [==============================] - 0s 2ms/step - loss: 0.2449 - accuracy: 0.9612\n",
      "Epoch 17/30\n",
      "15/15 [==============================] - 0s 3ms/step - loss: 0.2367 - accuracy: 0.9607\n",
      "Epoch 18/30\n",
      "15/15 [==============================] - 0s 2ms/step - loss: 0.2293 - accuracy: 0.9607\n",
      "Epoch 19/30\n",
      "15/15 [==============================] - 0s 3ms/step - loss: 0.2225 - accuracy: 0.9607\n",
      "Epoch 20/30\n",
      "15/15 [==============================] - 0s 3ms/step - loss: 0.2165 - accuracy: 0.9601\n",
      "Epoch 21/30\n",
      "15/15 [==============================] - 0s 3ms/step - loss: 0.2111 - accuracy: 0.9601\n",
      "Epoch 22/30\n",
      "15/15 [==============================] - 0s 3ms/step - loss: 0.2062 - accuracy: 0.9601\n",
      "Epoch 23/30\n",
      "15/15 [==============================] - 0s 3ms/step - loss: 0.2017 - accuracy: 0.9596\n",
      "Epoch 24/30\n",
      "15/15 [==============================] - 0s 3ms/step - loss: 0.1976 - accuracy: 0.9596\n",
      "Epoch 25/30\n",
      "15/15 [==============================] - 0s 3ms/step - loss: 0.1938 - accuracy: 0.9596\n",
      "Epoch 26/30\n",
      "15/15 [==============================] - 0s 2ms/step - loss: 0.1904 - accuracy: 0.9596\n",
      "Epoch 27/30\n",
      "15/15 [==============================] - 0s 2ms/step - loss: 0.1872 - accuracy: 0.9596\n",
      "Epoch 28/30\n",
      "15/15 [==============================] - 0s 3ms/step - loss: 0.1843 - accuracy: 0.9596\n",
      "Epoch 29/30\n",
      "15/15 [==============================] - 0s 3ms/step - loss: 0.1816 - accuracy: 0.9596\n",
      "Epoch 30/30\n",
      "15/15 [==============================] - 0s 2ms/step - loss: 0.1790 - accuracy: 0.9596\n"
     ]
    }
   ],
   "source": [
    "print(\"- Stacking based Stock Selection\")\n",
    "model_stacking = EvaluationClass( X_train, Y_train, X_test, Y_test, model_type = 4)\n",
    "SAccuracy, SPrecision, SRecall, SF1, STPR, SFPR, SAUC = model_stacking.evalu_sta()"
   ]
  },
  {
   "source": [
    "Genetic Algorithm based Feature Selection"
   ],
   "cell_type": "markdown",
   "metadata": {}
  },
  {
   "cell_type": "code",
   "execution_count": 9,
   "metadata": {},
   "outputs": [
    {
     "output_type": "stream",
     "name": "stdout",
     "text": [
      "- GA based Feature Selection\n"
     ]
    }
   ],
   "source": [
    "print(\"- GA based Feature Selection\")\n",
    "#Selector = GA( X_train, Y_train, X_test, Y_test, model_type = 1, save_computaion=True)\n",
    "#Selector.Search()\n",
    "#Filter = Selector.bestSolutions\n",
    "Filter = np.load(\"filter.npy\")\n",
    "X_train_masked = X_train[ :, Filter==1]\n",
    "X_test_masked = X_test[ :, Filter==1]"
   ]
  },
  {
   "source": [
    "Logistic Regression based Stock Selection (After Feature Selection)"
   ],
   "cell_type": "markdown",
   "metadata": {}
  },
  {
   "cell_type": "code",
   "execution_count": 10,
   "metadata": {},
   "outputs": [
    {
     "output_type": "stream",
     "name": "stdout",
     "text": [
      "- Logistic Regression based Stock Selection (After Feature Selection)\n",
      "Epoch 1/20\n",
      "75/75 [==============================] - 0s 4ms/step - loss: 0.6025 - accuracy: 0.7477\n",
      "Epoch 2/20\n",
      "75/75 [==============================] - 0s 5ms/step - loss: 0.4670 - accuracy: 0.8898\n",
      "Epoch 3/20\n",
      "75/75 [==============================] - 0s 3ms/step - loss: 0.3968 - accuracy: 0.9071\n",
      "Epoch 4/20\n",
      "75/75 [==============================] - 0s 4ms/step - loss: 0.3545 - accuracy: 0.9120\n",
      "Epoch 5/20\n",
      "75/75 [==============================] - 0s 5ms/step - loss: 0.3262 - accuracy: 0.9151\n",
      "Epoch 6/20\n",
      "75/75 [==============================] - 0s 4ms/step - loss: 0.3052 - accuracy: 0.9189\n",
      "Epoch 7/20\n",
      "75/75 [==============================] - 0s 2ms/step - loss: 0.2894 - accuracy: 0.9205\n",
      "Epoch 8/20\n",
      "75/75 [==============================] - 0s 4ms/step - loss: 0.2765 - accuracy: 0.9228\n",
      "Epoch 9/20\n",
      "75/75 [==============================] - 0s 5ms/step - loss: 0.2660 - accuracy: 0.9240\n",
      "Epoch 10/20\n",
      "75/75 [==============================] - 0s 4ms/step - loss: 0.2574 - accuracy: 0.9254\n",
      "Epoch 11/20\n",
      "75/75 [==============================] - 0s 5ms/step - loss: 0.2498 - accuracy: 0.9273\n",
      "Epoch 12/20\n",
      "75/75 [==============================] - 0s 4ms/step - loss: 0.2435 - accuracy: 0.9277\n",
      "Epoch 13/20\n",
      "75/75 [==============================] - 0s 4ms/step - loss: 0.2378 - accuracy: 0.9286\n",
      "Epoch 14/20\n",
      "75/75 [==============================] - 0s 2ms/step - loss: 0.2330 - accuracy: 0.9289\n",
      "Epoch 15/20\n",
      "75/75 [==============================] - 0s 3ms/step - loss: 0.2284 - accuracy: 0.9292\n",
      "Epoch 16/20\n",
      "75/75 [==============================] - 0s 2ms/step - loss: 0.2243 - accuracy: 0.9299\n",
      "Epoch 17/20\n",
      "75/75 [==============================] - 0s 3ms/step - loss: 0.2209 - accuracy: 0.9310\n",
      "Epoch 18/20\n",
      "75/75 [==============================] - 0s 3ms/step - loss: 0.2178 - accuracy: 0.9318\n",
      "Epoch 19/20\n",
      "75/75 [==============================] - 0s 5ms/step - loss: 0.2145 - accuracy: 0.9309\n",
      "Epoch 20/20\n",
      "75/75 [==============================] - 0s 3ms/step - loss: 0.2120 - accuracy: 0.9320\n"
     ]
    }
   ],
   "source": [
    "print(\"- Logistic Regression based Stock Selection (After Feature Selection)\")\n",
    "model_logistic_masked = EvaluationClass( X_train_masked, Y_train, X_test_masked, Y_test, model_type = 1)\n",
    "LAccuracy_masked, LPrecision_masked, LRecall_masked, LF1_masked, LTPR_masked, LFPR_masked, LAUC_masked = model_logistic_masked.evalu_sta()"
   ]
  },
  {
   "source": [
    "Deep Learning based Stock Selection (After Feature Selection)"
   ],
   "cell_type": "markdown",
   "metadata": {}
  },
  {
   "cell_type": "code",
   "execution_count": 11,
   "metadata": {},
   "outputs": [
    {
     "output_type": "stream",
     "name": "stdout",
     "text": [
      "- Deep Learning based Stock Selection (After Feature Selection)\n",
      "Epoch 1/20\n",
      "75/75 [==============================] - 0s 3ms/step - loss: 1.9124 - accuracy: 0.5734\n",
      "Epoch 2/20\n",
      "75/75 [==============================] - 0s 5ms/step - loss: 1.6628 - accuracy: 0.7307\n",
      "Epoch 3/20\n",
      "75/75 [==============================] - 0s 5ms/step - loss: 1.5142 - accuracy: 0.8186\n",
      "Epoch 4/20\n",
      "75/75 [==============================] - 0s 5ms/step - loss: 1.4203 - accuracy: 0.8456\n",
      "Epoch 5/20\n",
      "75/75 [==============================] - 0s 4ms/step - loss: 1.3562 - accuracy: 0.8645\n",
      "Epoch 6/20\n",
      "75/75 [==============================] - 0s 3ms/step - loss: 1.2952 - accuracy: 0.8819\n",
      "Epoch 7/20\n",
      "75/75 [==============================] - 0s 4ms/step - loss: 1.2385 - accuracy: 0.8969\n",
      "Epoch 8/20\n",
      "75/75 [==============================] - 0s 4ms/step - loss: 1.2028 - accuracy: 0.9017\n",
      "Epoch 9/20\n",
      "75/75 [==============================] - 0s 5ms/step - loss: 1.1634 - accuracy: 0.9011\n",
      "Epoch 10/20\n",
      "75/75 [==============================] - 0s 6ms/step - loss: 1.1304 - accuracy: 0.9075\n",
      "Epoch 11/20\n",
      "75/75 [==============================] - 0s 5ms/step - loss: 1.0971 - accuracy: 0.9112\n",
      "Epoch 12/20\n",
      "75/75 [==============================] - 0s 4ms/step - loss: 1.0623 - accuracy: 0.9165\n",
      "Epoch 13/20\n",
      "75/75 [==============================] - 0s 4ms/step - loss: 1.0356 - accuracy: 0.9149\n",
      "Epoch 14/20\n",
      "75/75 [==============================] - 0s 4ms/step - loss: 1.0075 - accuracy: 0.9202\n",
      "Epoch 15/20\n",
      "75/75 [==============================] - 0s 4ms/step - loss: 0.9764 - accuracy: 0.9200\n",
      "Epoch 16/20\n",
      "75/75 [==============================] - 0s 4ms/step - loss: 0.9493 - accuracy: 0.9238\n",
      "Epoch 17/20\n",
      "75/75 [==============================] - 0s 5ms/step - loss: 0.9281 - accuracy: 0.9244\n",
      "Epoch 18/20\n",
      "75/75 [==============================] - 0s 4ms/step - loss: 0.9055 - accuracy: 0.9254\n",
      "Epoch 19/20\n",
      "75/75 [==============================] - 0s 5ms/step - loss: 0.8789 - accuracy: 0.9264\n",
      "Epoch 20/20\n",
      "75/75 [==============================] - 0s 4ms/step - loss: 0.8554 - accuracy: 0.9273\n"
     ]
    }
   ],
   "source": [
    "print(\"- Deep Learning based Stock Selection (After Feature Selection)\")\n",
    "model_deep_masked = EvaluationClass( X_train_masked, Y_train, X_test_masked, Y_test, model_type = 2)\n",
    "DAccuracy_masked, DPrecision_masked, DRecall_masked, DF1_masked, DTPR_masked, DFPR_masked, DAUC_masked = model_deep_masked.evalu_sta()"
   ]
  },
  {
   "source": [
    "Random Forest based Stock Selection (After Feature Selection)"
   ],
   "cell_type": "markdown",
   "metadata": {}
  },
  {
   "cell_type": "code",
   "execution_count": 12,
   "metadata": {},
   "outputs": [
    {
     "output_type": "stream",
     "name": "stdout",
     "text": [
      "- Random Forest based Stock Selection (After Feature Selection)\n"
     ]
    }
   ],
   "source": [
    "print(\"- Random Forest based Stock Selection (After Feature Selection)\")\n",
    "model_forest_masked = EvaluationClass( X_train_masked, Y_train, X_test_masked, Y_test, model_type = 3)\n",
    "RAccuracy_masked, RPrecision_masked, RRecall_masked, RF1_masked, RTPR_masked, RFPR_masked, RAUC_masked = model_forest_masked.evalu_sta()"
   ]
  },
  {
   "source": [
    "Stacking based Stock Selection (After Feature Selection)"
   ],
   "cell_type": "markdown",
   "metadata": {}
  },
  {
   "cell_type": "code",
   "execution_count": 13,
   "metadata": {},
   "outputs": [
    {
     "output_type": "stream",
     "name": "stdout",
     "text": [
      "- Stacking based Stock Selection (After Feature Selection)\n",
      "Epoch 1/30\n",
      "15/15 [==============================] - 0s 2ms/step - loss: 0.4793 - accuracy: 0.7844\n",
      "Epoch 2/30\n",
      "15/15 [==============================] - 0s 3ms/step - loss: 0.4457 - accuracy: 0.9423\n",
      "Epoch 3/30\n",
      "15/15 [==============================] - 0s 2ms/step - loss: 0.4104 - accuracy: 0.9538\n",
      "Epoch 4/30\n",
      "15/15 [==============================] - 0s 2ms/step - loss: 0.3797 - accuracy: 0.9528\n",
      "Epoch 5/30\n",
      "15/15 [==============================] - 0s 2ms/step - loss: 0.3538 - accuracy: 0.9554\n",
      "Epoch 6/30\n",
      "15/15 [==============================] - 0s 6ms/step - loss: 0.3316 - accuracy: 0.9570\n",
      "Epoch 7/30\n",
      "15/15 [==============================] - 0s 4ms/step - loss: 0.3126 - accuracy: 0.9570\n",
      "Epoch 8/30\n",
      "15/15 [==============================] - 0s 4ms/step - loss: 0.2962 - accuracy: 0.9575\n",
      "Epoch 9/30\n",
      "15/15 [==============================] - 0s 3ms/step - loss: 0.2819 - accuracy: 0.9596\n",
      "Epoch 10/30\n",
      "15/15 [==============================] - 0s 4ms/step - loss: 0.2695 - accuracy: 0.9596\n",
      "Epoch 11/30\n",
      "15/15 [==============================] - 0s 4ms/step - loss: 0.2586 - accuracy: 0.9596\n",
      "Epoch 12/30\n",
      "15/15 [==============================] - 0s 3ms/step - loss: 0.2489 - accuracy: 0.9607\n",
      "Epoch 13/30\n",
      "15/15 [==============================] - 0s 3ms/step - loss: 0.2404 - accuracy: 0.9607\n",
      "Epoch 14/30\n",
      "15/15 [==============================] - 0s 3ms/step - loss: 0.2326 - accuracy: 0.9607\n",
      "Epoch 15/30\n",
      "15/15 [==============================] - 0s 3ms/step - loss: 0.2258 - accuracy: 0.9612\n",
      "Epoch 16/30\n",
      "15/15 [==============================] - 0s 4ms/step - loss: 0.2196 - accuracy: 0.9607\n",
      "Epoch 17/30\n",
      "15/15 [==============================] - 0s 3ms/step - loss: 0.2141 - accuracy: 0.9596\n",
      "Epoch 18/30\n",
      "15/15 [==============================] - 0s 3ms/step - loss: 0.2089 - accuracy: 0.9596\n",
      "Epoch 19/30\n",
      "15/15 [==============================] - 0s 4ms/step - loss: 0.2044 - accuracy: 0.9596\n",
      "Epoch 20/30\n",
      "15/15 [==============================] - 0s 2ms/step - loss: 0.2002 - accuracy: 0.9596\n",
      "Epoch 21/30\n",
      "15/15 [==============================] - 0s 2ms/step - loss: 0.1963 - accuracy: 0.9596\n",
      "Epoch 22/30\n",
      "15/15 [==============================] - 0s 2ms/step - loss: 0.1928 - accuracy: 0.9596\n",
      "Epoch 23/30\n",
      "15/15 [==============================] - 0s 5ms/step - loss: 0.1895 - accuracy: 0.9596\n",
      "Epoch 24/30\n",
      "15/15 [==============================] - 0s 3ms/step - loss: 0.1866 - accuracy: 0.9596\n",
      "Epoch 25/30\n",
      "15/15 [==============================] - 0s 3ms/step - loss: 0.1838 - accuracy: 0.9596\n",
      "Epoch 26/30\n",
      "15/15 [==============================] - 0s 2ms/step - loss: 0.1812 - accuracy: 0.9591\n",
      "Epoch 27/30\n",
      "15/15 [==============================] - 0s 3ms/step - loss: 0.1788 - accuracy: 0.9591\n",
      "Epoch 28/30\n",
      "15/15 [==============================] - 0s 3ms/step - loss: 0.1766 - accuracy: 0.9591\n",
      "Epoch 29/30\n",
      "15/15 [==============================] - 0s 3ms/step - loss: 0.1745 - accuracy: 0.9591\n",
      "Epoch 30/30\n",
      "15/15 [==============================] - 0s 3ms/step - loss: 0.1726 - accuracy: 0.9591\n"
     ]
    }
   ],
   "source": [
    "print(\"- Stacking based Stock Selection (After Feature Selection)\")\n",
    "model_stacking_masked = EvaluationClass( X_train_masked, Y_train, X_test_masked, Y_test, model_type = 4)\n",
    "SAccuracy_masked, SPrecision_masked, SRecall_masked, SF1_masked, STPR_masked, SFPR_masked, SAUC_masked = model_stacking_masked.evalu_sta()"
   ]
  },
  {
   "source": [
    "Portfolio Management Bace Test"
   ],
   "cell_type": "markdown",
   "metadata": {}
  },
  {
   "cell_type": "code",
   "execution_count": 14,
   "metadata": {},
   "outputs": [
    {
     "output_type": "display_data",
     "data": {
      "text/plain": "<Figure size 1080x432 with 1 Axes>",
      "image/svg+xml": "<?xml version=\"1.0\" encoding=\"utf-8\" standalone=\"no\"?>\n<!DOCTYPE svg PUBLIC \"-//W3C//DTD SVG 1.1//EN\"\n  \"http://www.w3.org/Graphics/SVG/1.1/DTD/svg11.dtd\">\n<!-- Created with matplotlib (https://matplotlib.org/) -->\n<svg height=\"386.034375pt\" version=\"1.1\" viewBox=\"0 0 847.282813 386.034375\" width=\"847.282813pt\" xmlns=\"http://www.w3.org/2000/svg\" xmlns:xlink=\"http://www.w3.org/1999/xlink\">\n <defs>\n  <style type=\"text/css\">\n*{stroke-linecap:butt;stroke-linejoin:round;}\n  </style>\n </defs>\n <g id=\"figure_1\">\n  <g id=\"patch_1\">\n   <path d=\"M 0 386.034375 \nL 847.282813 386.034375 \nL 847.282813 0 \nL 0 0 \nz\n\" style=\"fill:none;\"/>\n  </g>\n  <g id=\"axes_1\">\n   <g id=\"patch_2\">\n    <path d=\"M 66.053125 348.478125 \nL 735.653125 348.478125 \nL 735.653125 22.318125 \nL 66.053125 22.318125 \nz\n\" style=\"fill:#ffffff;\"/>\n   </g>\n   <g id=\"matplotlib.axis_1\">\n    <g id=\"xtick_1\">\n     <g id=\"line2d_1\">\n      <defs>\n       <path d=\"M 0 0 \nL 0 3.5 \n\" id=\"m235cdce4d3\" style=\"stroke:#000000;stroke-width:0.8;\"/>\n      </defs>\n      <g>\n       <use style=\"stroke:#000000;stroke-width:0.8;\" x=\"96.489489\" xlink:href=\"#m235cdce4d3\" y=\"348.478125\"/>\n      </g>\n     </g>\n     <g id=\"text_1\">\n      <!-- 0.00 -->\n      <defs>\n       <path d=\"M 31.78125 66.40625 \nQ 24.171875 66.40625 20.328125 58.90625 \nQ 16.5 51.421875 16.5 36.375 \nQ 16.5 21.390625 20.328125 13.890625 \nQ 24.171875 6.390625 31.78125 6.390625 \nQ 39.453125 6.390625 43.28125 13.890625 \nQ 47.125 21.390625 47.125 36.375 \nQ 47.125 51.421875 43.28125 58.90625 \nQ 39.453125 66.40625 31.78125 66.40625 \nz\nM 31.78125 74.21875 \nQ 44.046875 74.21875 50.515625 64.515625 \nQ 56.984375 54.828125 56.984375 36.375 \nQ 56.984375 17.96875 50.515625 8.265625 \nQ 44.046875 -1.421875 31.78125 -1.421875 \nQ 19.53125 -1.421875 13.0625 8.265625 \nQ 6.59375 17.96875 6.59375 36.375 \nQ 6.59375 54.828125 13.0625 64.515625 \nQ 19.53125 74.21875 31.78125 74.21875 \nz\n\" id=\"DejaVuSans-48\"/>\n       <path d=\"M 10.6875 12.40625 \nL 21 12.40625 \nL 21 0 \nL 10.6875 0 \nz\n\" id=\"DejaVuSans-46\"/>\n      </defs>\n      <g transform=\"translate(85.356676 363.076562)scale(0.1 -0.1)\">\n       <use xlink:href=\"#DejaVuSans-48\"/>\n       <use x=\"63.623047\" xlink:href=\"#DejaVuSans-46\"/>\n       <use x=\"95.410156\" xlink:href=\"#DejaVuSans-48\"/>\n       <use x=\"159.033203\" xlink:href=\"#DejaVuSans-48\"/>\n      </g>\n     </g>\n    </g>\n    <g id=\"xtick_2\">\n     <g id=\"line2d_2\">\n      <g>\n       <use style=\"stroke:#000000;stroke-width:0.8;\" x=\"172.580398\" xlink:href=\"#m235cdce4d3\" y=\"348.478125\"/>\n      </g>\n     </g>\n     <g id=\"text_2\">\n      <!-- 0.25 -->\n      <defs>\n       <path d=\"M 19.1875 8.296875 \nL 53.609375 8.296875 \nL 53.609375 0 \nL 7.328125 0 \nL 7.328125 8.296875 \nQ 12.9375 14.109375 22.625 23.890625 \nQ 32.328125 33.6875 34.8125 36.53125 \nQ 39.546875 41.84375 41.421875 45.53125 \nQ 43.3125 49.21875 43.3125 52.78125 \nQ 43.3125 58.59375 39.234375 62.25 \nQ 35.15625 65.921875 28.609375 65.921875 \nQ 23.96875 65.921875 18.8125 64.3125 \nQ 13.671875 62.703125 7.8125 59.421875 \nL 7.8125 69.390625 \nQ 13.765625 71.78125 18.9375 73 \nQ 24.125 74.21875 28.421875 74.21875 \nQ 39.75 74.21875 46.484375 68.546875 \nQ 53.21875 62.890625 53.21875 53.421875 \nQ 53.21875 48.921875 51.53125 44.890625 \nQ 49.859375 40.875 45.40625 35.40625 \nQ 44.1875 33.984375 37.640625 27.21875 \nQ 31.109375 20.453125 19.1875 8.296875 \nz\n\" id=\"DejaVuSans-50\"/>\n       <path d=\"M 10.796875 72.90625 \nL 49.515625 72.90625 \nL 49.515625 64.59375 \nL 19.828125 64.59375 \nL 19.828125 46.734375 \nQ 21.96875 47.46875 24.109375 47.828125 \nQ 26.265625 48.1875 28.421875 48.1875 \nQ 40.625 48.1875 47.75 41.5 \nQ 54.890625 34.8125 54.890625 23.390625 \nQ 54.890625 11.625 47.5625 5.09375 \nQ 40.234375 -1.421875 26.90625 -1.421875 \nQ 22.3125 -1.421875 17.546875 -0.640625 \nQ 12.796875 0.140625 7.71875 1.703125 \nL 7.71875 11.625 \nQ 12.109375 9.234375 16.796875 8.0625 \nQ 21.484375 6.890625 26.703125 6.890625 \nQ 35.15625 6.890625 40.078125 11.328125 \nQ 45.015625 15.765625 45.015625 23.390625 \nQ 45.015625 31 40.078125 35.4375 \nQ 35.15625 39.890625 26.703125 39.890625 \nQ 22.75 39.890625 18.8125 39.015625 \nQ 14.890625 38.140625 10.796875 36.28125 \nz\n\" id=\"DejaVuSans-53\"/>\n      </defs>\n      <g transform=\"translate(161.447585 363.076562)scale(0.1 -0.1)\">\n       <use xlink:href=\"#DejaVuSans-48\"/>\n       <use x=\"63.623047\" xlink:href=\"#DejaVuSans-46\"/>\n       <use x=\"95.410156\" xlink:href=\"#DejaVuSans-50\"/>\n       <use x=\"159.033203\" xlink:href=\"#DejaVuSans-53\"/>\n      </g>\n     </g>\n    </g>\n    <g id=\"xtick_3\">\n     <g id=\"line2d_3\">\n      <g>\n       <use style=\"stroke:#000000;stroke-width:0.8;\" x=\"248.671307\" xlink:href=\"#m235cdce4d3\" y=\"348.478125\"/>\n      </g>\n     </g>\n     <g id=\"text_3\">\n      <!-- 0.50 -->\n      <g transform=\"translate(237.538494 363.076562)scale(0.1 -0.1)\">\n       <use xlink:href=\"#DejaVuSans-48\"/>\n       <use x=\"63.623047\" xlink:href=\"#DejaVuSans-46\"/>\n       <use x=\"95.410156\" xlink:href=\"#DejaVuSans-53\"/>\n       <use x=\"159.033203\" xlink:href=\"#DejaVuSans-48\"/>\n      </g>\n     </g>\n    </g>\n    <g id=\"xtick_4\">\n     <g id=\"line2d_4\">\n      <g>\n       <use style=\"stroke:#000000;stroke-width:0.8;\" x=\"324.762216\" xlink:href=\"#m235cdce4d3\" y=\"348.478125\"/>\n      </g>\n     </g>\n     <g id=\"text_4\">\n      <!-- 0.75 -->\n      <defs>\n       <path d=\"M 8.203125 72.90625 \nL 55.078125 72.90625 \nL 55.078125 68.703125 \nL 28.609375 0 \nL 18.3125 0 \nL 43.21875 64.59375 \nL 8.203125 64.59375 \nz\n\" id=\"DejaVuSans-55\"/>\n      </defs>\n      <g transform=\"translate(313.629403 363.076562)scale(0.1 -0.1)\">\n       <use xlink:href=\"#DejaVuSans-48\"/>\n       <use x=\"63.623047\" xlink:href=\"#DejaVuSans-46\"/>\n       <use x=\"95.410156\" xlink:href=\"#DejaVuSans-55\"/>\n       <use x=\"159.033203\" xlink:href=\"#DejaVuSans-53\"/>\n      </g>\n     </g>\n    </g>\n    <g id=\"xtick_5\">\n     <g id=\"line2d_5\">\n      <g>\n       <use style=\"stroke:#000000;stroke-width:0.8;\" x=\"400.853125\" xlink:href=\"#m235cdce4d3\" y=\"348.478125\"/>\n      </g>\n     </g>\n     <g id=\"text_5\">\n      <!-- 1.00 -->\n      <defs>\n       <path d=\"M 12.40625 8.296875 \nL 28.515625 8.296875 \nL 28.515625 63.921875 \nL 10.984375 60.40625 \nL 10.984375 69.390625 \nL 28.421875 72.90625 \nL 38.28125 72.90625 \nL 38.28125 8.296875 \nL 54.390625 8.296875 \nL 54.390625 0 \nL 12.40625 0 \nz\n\" id=\"DejaVuSans-49\"/>\n      </defs>\n      <g transform=\"translate(389.720313 363.076562)scale(0.1 -0.1)\">\n       <use xlink:href=\"#DejaVuSans-49\"/>\n       <use x=\"63.623047\" xlink:href=\"#DejaVuSans-46\"/>\n       <use x=\"95.410156\" xlink:href=\"#DejaVuSans-48\"/>\n       <use x=\"159.033203\" xlink:href=\"#DejaVuSans-48\"/>\n      </g>\n     </g>\n    </g>\n    <g id=\"xtick_6\">\n     <g id=\"line2d_6\">\n      <g>\n       <use style=\"stroke:#000000;stroke-width:0.8;\" x=\"476.944034\" xlink:href=\"#m235cdce4d3\" y=\"348.478125\"/>\n      </g>\n     </g>\n     <g id=\"text_6\">\n      <!-- 1.25 -->\n      <g transform=\"translate(465.811222 363.076562)scale(0.1 -0.1)\">\n       <use xlink:href=\"#DejaVuSans-49\"/>\n       <use x=\"63.623047\" xlink:href=\"#DejaVuSans-46\"/>\n       <use x=\"95.410156\" xlink:href=\"#DejaVuSans-50\"/>\n       <use x=\"159.033203\" xlink:href=\"#DejaVuSans-53\"/>\n      </g>\n     </g>\n    </g>\n    <g id=\"xtick_7\">\n     <g id=\"line2d_7\">\n      <g>\n       <use style=\"stroke:#000000;stroke-width:0.8;\" x=\"553.034943\" xlink:href=\"#m235cdce4d3\" y=\"348.478125\"/>\n      </g>\n     </g>\n     <g id=\"text_7\">\n      <!-- 1.50 -->\n      <g transform=\"translate(541.902131 363.076562)scale(0.1 -0.1)\">\n       <use xlink:href=\"#DejaVuSans-49\"/>\n       <use x=\"63.623047\" xlink:href=\"#DejaVuSans-46\"/>\n       <use x=\"95.410156\" xlink:href=\"#DejaVuSans-53\"/>\n       <use x=\"159.033203\" xlink:href=\"#DejaVuSans-48\"/>\n      </g>\n     </g>\n    </g>\n    <g id=\"xtick_8\">\n     <g id=\"line2d_8\">\n      <g>\n       <use style=\"stroke:#000000;stroke-width:0.8;\" x=\"629.125852\" xlink:href=\"#m235cdce4d3\" y=\"348.478125\"/>\n      </g>\n     </g>\n     <g id=\"text_8\">\n      <!-- 1.75 -->\n      <g transform=\"translate(617.99304 363.076562)scale(0.1 -0.1)\">\n       <use xlink:href=\"#DejaVuSans-49\"/>\n       <use x=\"63.623047\" xlink:href=\"#DejaVuSans-46\"/>\n       <use x=\"95.410156\" xlink:href=\"#DejaVuSans-55\"/>\n       <use x=\"159.033203\" xlink:href=\"#DejaVuSans-53\"/>\n      </g>\n     </g>\n    </g>\n    <g id=\"xtick_9\">\n     <g id=\"line2d_9\">\n      <g>\n       <use style=\"stroke:#000000;stroke-width:0.8;\" x=\"705.216761\" xlink:href=\"#m235cdce4d3\" y=\"348.478125\"/>\n      </g>\n     </g>\n     <g id=\"text_9\">\n      <!-- 2.00 -->\n      <g transform=\"translate(694.083949 363.076562)scale(0.1 -0.1)\">\n       <use xlink:href=\"#DejaVuSans-50\"/>\n       <use x=\"63.623047\" xlink:href=\"#DejaVuSans-46\"/>\n       <use x=\"95.410156\" xlink:href=\"#DejaVuSans-48\"/>\n       <use x=\"159.033203\" xlink:href=\"#DejaVuSans-48\"/>\n      </g>\n     </g>\n    </g>\n    <g id=\"text_10\">\n     <!-- Time -->\n     <defs>\n      <path d=\"M -0.296875 72.90625 \nL 61.375 72.90625 \nL 61.375 64.59375 \nL 35.5 64.59375 \nL 35.5 0 \nL 25.59375 0 \nL 25.59375 64.59375 \nL -0.296875 64.59375 \nz\n\" id=\"DejaVuSans-84\"/>\n      <path d=\"M 9.421875 54.6875 \nL 18.40625 54.6875 \nL 18.40625 0 \nL 9.421875 0 \nz\nM 9.421875 75.984375 \nL 18.40625 75.984375 \nL 18.40625 64.59375 \nL 9.421875 64.59375 \nz\n\" id=\"DejaVuSans-105\"/>\n      <path d=\"M 52 44.1875 \nQ 55.375 50.25 60.0625 53.125 \nQ 64.75 56 71.09375 56 \nQ 79.640625 56 84.28125 50.015625 \nQ 88.921875 44.046875 88.921875 33.015625 \nL 88.921875 0 \nL 79.890625 0 \nL 79.890625 32.71875 \nQ 79.890625 40.578125 77.09375 44.375 \nQ 74.3125 48.1875 68.609375 48.1875 \nQ 61.625 48.1875 57.5625 43.546875 \nQ 53.515625 38.921875 53.515625 30.90625 \nL 53.515625 0 \nL 44.484375 0 \nL 44.484375 32.71875 \nQ 44.484375 40.625 41.703125 44.40625 \nQ 38.921875 48.1875 33.109375 48.1875 \nQ 26.21875 48.1875 22.15625 43.53125 \nQ 18.109375 38.875 18.109375 30.90625 \nL 18.109375 0 \nL 9.078125 0 \nL 9.078125 54.6875 \nL 18.109375 54.6875 \nL 18.109375 46.1875 \nQ 21.1875 51.21875 25.484375 53.609375 \nQ 29.78125 56 35.6875 56 \nQ 41.65625 56 45.828125 52.96875 \nQ 50 49.953125 52 44.1875 \nz\n\" id=\"DejaVuSans-109\"/>\n      <path d=\"M 56.203125 29.59375 \nL 56.203125 25.203125 \nL 14.890625 25.203125 \nQ 15.484375 15.921875 20.484375 11.0625 \nQ 25.484375 6.203125 34.421875 6.203125 \nQ 39.59375 6.203125 44.453125 7.46875 \nQ 49.3125 8.734375 54.109375 11.28125 \nL 54.109375 2.78125 \nQ 49.265625 0.734375 44.1875 -0.34375 \nQ 39.109375 -1.421875 33.890625 -1.421875 \nQ 20.796875 -1.421875 13.15625 6.1875 \nQ 5.515625 13.8125 5.515625 26.8125 \nQ 5.515625 40.234375 12.765625 48.109375 \nQ 20.015625 56 32.328125 56 \nQ 43.359375 56 49.78125 48.890625 \nQ 56.203125 41.796875 56.203125 29.59375 \nz\nM 47.21875 32.234375 \nQ 47.125 39.59375 43.09375 43.984375 \nQ 39.0625 48.390625 32.421875 48.390625 \nQ 24.90625 48.390625 20.390625 44.140625 \nQ 15.875 39.890625 15.1875 32.171875 \nz\n\" id=\"DejaVuSans-101\"/>\n     </defs>\n     <g transform=\"translate(388.465625 376.754687)scale(0.1 -0.1)\">\n      <use xlink:href=\"#DejaVuSans-84\"/>\n      <use x=\"61.037109\" xlink:href=\"#DejaVuSans-105\"/>\n      <use x=\"88.820312\" xlink:href=\"#DejaVuSans-109\"/>\n      <use x=\"186.232422\" xlink:href=\"#DejaVuSans-101\"/>\n     </g>\n    </g>\n   </g>\n   <g id=\"matplotlib.axis_2\">\n    <g id=\"ytick_1\">\n     <g id=\"line2d_10\">\n      <defs>\n       <path d=\"M 0 0 \nL -3.5 0 \n\" id=\"mbfede1cb32\" style=\"stroke:#000000;stroke-width:0.8;\"/>\n      </defs>\n      <g>\n       <use style=\"stroke:#000000;stroke-width:0.8;\" x=\"66.053125\" xlink:href=\"#mbfede1cb32\" y=\"340.856743\"/>\n      </g>\n     </g>\n     <g id=\"text_11\">\n      <!-- 99000 -->\n      <defs>\n       <path d=\"M 10.984375 1.515625 \nL 10.984375 10.5 \nQ 14.703125 8.734375 18.5 7.8125 \nQ 22.3125 6.890625 25.984375 6.890625 \nQ 35.75 6.890625 40.890625 13.453125 \nQ 46.046875 20.015625 46.78125 33.40625 \nQ 43.953125 29.203125 39.59375 26.953125 \nQ 35.25 24.703125 29.984375 24.703125 \nQ 19.046875 24.703125 12.671875 31.3125 \nQ 6.296875 37.9375 6.296875 49.421875 \nQ 6.296875 60.640625 12.9375 67.421875 \nQ 19.578125 74.21875 30.609375 74.21875 \nQ 43.265625 74.21875 49.921875 64.515625 \nQ 56.59375 54.828125 56.59375 36.375 \nQ 56.59375 19.140625 48.40625 8.859375 \nQ 40.234375 -1.421875 26.421875 -1.421875 \nQ 22.703125 -1.421875 18.890625 -0.6875 \nQ 15.09375 0.046875 10.984375 1.515625 \nz\nM 30.609375 32.421875 \nQ 37.25 32.421875 41.125 36.953125 \nQ 45.015625 41.5 45.015625 49.421875 \nQ 45.015625 57.28125 41.125 61.84375 \nQ 37.25 66.40625 30.609375 66.40625 \nQ 23.96875 66.40625 20.09375 61.84375 \nQ 16.21875 57.28125 16.21875 49.421875 \nQ 16.21875 41.5 20.09375 36.953125 \nQ 23.96875 32.421875 30.609375 32.421875 \nz\n\" id=\"DejaVuSans-57\"/>\n      </defs>\n      <g transform=\"translate(27.240625 344.655962)scale(0.1 -0.1)\">\n       <use xlink:href=\"#DejaVuSans-57\"/>\n       <use x=\"63.623047\" xlink:href=\"#DejaVuSans-57\"/>\n       <use x=\"127.246094\" xlink:href=\"#DejaVuSans-48\"/>\n       <use x=\"190.869141\" xlink:href=\"#DejaVuSans-48\"/>\n       <use x=\"254.492188\" xlink:href=\"#DejaVuSans-48\"/>\n      </g>\n     </g>\n    </g>\n    <g id=\"ytick_2\">\n     <g id=\"line2d_11\">\n      <g>\n       <use style=\"stroke:#000000;stroke-width:0.8;\" x=\"66.053125\" xlink:href=\"#mbfede1cb32\" y=\"295.9879\"/>\n      </g>\n     </g>\n     <g id=\"text_12\">\n      <!-- 99250 -->\n      <g transform=\"translate(27.240625 299.787119)scale(0.1 -0.1)\">\n       <use xlink:href=\"#DejaVuSans-57\"/>\n       <use x=\"63.623047\" xlink:href=\"#DejaVuSans-57\"/>\n       <use x=\"127.246094\" xlink:href=\"#DejaVuSans-50\"/>\n       <use x=\"190.869141\" xlink:href=\"#DejaVuSans-53\"/>\n       <use x=\"254.492188\" xlink:href=\"#DejaVuSans-48\"/>\n      </g>\n     </g>\n    </g>\n    <g id=\"ytick_3\">\n     <g id=\"line2d_12\">\n      <g>\n       <use style=\"stroke:#000000;stroke-width:0.8;\" x=\"66.053125\" xlink:href=\"#mbfede1cb32\" y=\"251.119058\"/>\n      </g>\n     </g>\n     <g id=\"text_13\">\n      <!-- 99500 -->\n      <g transform=\"translate(27.240625 254.918277)scale(0.1 -0.1)\">\n       <use xlink:href=\"#DejaVuSans-57\"/>\n       <use x=\"63.623047\" xlink:href=\"#DejaVuSans-57\"/>\n       <use x=\"127.246094\" xlink:href=\"#DejaVuSans-53\"/>\n       <use x=\"190.869141\" xlink:href=\"#DejaVuSans-48\"/>\n       <use x=\"254.492188\" xlink:href=\"#DejaVuSans-48\"/>\n      </g>\n     </g>\n    </g>\n    <g id=\"ytick_4\">\n     <g id=\"line2d_13\">\n      <g>\n       <use style=\"stroke:#000000;stroke-width:0.8;\" x=\"66.053125\" xlink:href=\"#mbfede1cb32\" y=\"206.250216\"/>\n      </g>\n     </g>\n     <g id=\"text_14\">\n      <!-- 99750 -->\n      <g transform=\"translate(27.240625 210.049434)scale(0.1 -0.1)\">\n       <use xlink:href=\"#DejaVuSans-57\"/>\n       <use x=\"63.623047\" xlink:href=\"#DejaVuSans-57\"/>\n       <use x=\"127.246094\" xlink:href=\"#DejaVuSans-55\"/>\n       <use x=\"190.869141\" xlink:href=\"#DejaVuSans-53\"/>\n       <use x=\"254.492188\" xlink:href=\"#DejaVuSans-48\"/>\n      </g>\n     </g>\n    </g>\n    <g id=\"ytick_5\">\n     <g id=\"line2d_14\">\n      <g>\n       <use style=\"stroke:#000000;stroke-width:0.8;\" x=\"66.053125\" xlink:href=\"#mbfede1cb32\" y=\"161.381373\"/>\n      </g>\n     </g>\n     <g id=\"text_15\">\n      <!-- 100000 -->\n      <g transform=\"translate(20.878125 165.180592)scale(0.1 -0.1)\">\n       <use xlink:href=\"#DejaVuSans-49\"/>\n       <use x=\"63.623047\" xlink:href=\"#DejaVuSans-48\"/>\n       <use x=\"127.246094\" xlink:href=\"#DejaVuSans-48\"/>\n       <use x=\"190.869141\" xlink:href=\"#DejaVuSans-48\"/>\n       <use x=\"254.492188\" xlink:href=\"#DejaVuSans-48\"/>\n       <use x=\"318.115234\" xlink:href=\"#DejaVuSans-48\"/>\n      </g>\n     </g>\n    </g>\n    <g id=\"ytick_6\">\n     <g id=\"line2d_15\">\n      <g>\n       <use style=\"stroke:#000000;stroke-width:0.8;\" x=\"66.053125\" xlink:href=\"#mbfede1cb32\" y=\"116.512531\"/>\n      </g>\n     </g>\n     <g id=\"text_16\">\n      <!-- 100250 -->\n      <g transform=\"translate(20.878125 120.31175)scale(0.1 -0.1)\">\n       <use xlink:href=\"#DejaVuSans-49\"/>\n       <use x=\"63.623047\" xlink:href=\"#DejaVuSans-48\"/>\n       <use x=\"127.246094\" xlink:href=\"#DejaVuSans-48\"/>\n       <use x=\"190.869141\" xlink:href=\"#DejaVuSans-50\"/>\n       <use x=\"254.492188\" xlink:href=\"#DejaVuSans-53\"/>\n       <use x=\"318.115234\" xlink:href=\"#DejaVuSans-48\"/>\n      </g>\n     </g>\n    </g>\n    <g id=\"ytick_7\">\n     <g id=\"line2d_16\">\n      <g>\n       <use style=\"stroke:#000000;stroke-width:0.8;\" x=\"66.053125\" xlink:href=\"#mbfede1cb32\" y=\"71.643689\"/>\n      </g>\n     </g>\n     <g id=\"text_17\">\n      <!-- 100500 -->\n      <g transform=\"translate(20.878125 75.442907)scale(0.1 -0.1)\">\n       <use xlink:href=\"#DejaVuSans-49\"/>\n       <use x=\"63.623047\" xlink:href=\"#DejaVuSans-48\"/>\n       <use x=\"127.246094\" xlink:href=\"#DejaVuSans-48\"/>\n       <use x=\"190.869141\" xlink:href=\"#DejaVuSans-53\"/>\n       <use x=\"254.492188\" xlink:href=\"#DejaVuSans-48\"/>\n       <use x=\"318.115234\" xlink:href=\"#DejaVuSans-48\"/>\n      </g>\n     </g>\n    </g>\n    <g id=\"ytick_8\">\n     <g id=\"line2d_17\">\n      <g>\n       <use style=\"stroke:#000000;stroke-width:0.8;\" x=\"66.053125\" xlink:href=\"#mbfede1cb32\" y=\"26.774846\"/>\n      </g>\n     </g>\n     <g id=\"text_18\">\n      <!-- 100750 -->\n      <g transform=\"translate(20.878125 30.574065)scale(0.1 -0.1)\">\n       <use xlink:href=\"#DejaVuSans-49\"/>\n       <use x=\"63.623047\" xlink:href=\"#DejaVuSans-48\"/>\n       <use x=\"127.246094\" xlink:href=\"#DejaVuSans-48\"/>\n       <use x=\"190.869141\" xlink:href=\"#DejaVuSans-55\"/>\n       <use x=\"254.492188\" xlink:href=\"#DejaVuSans-53\"/>\n       <use x=\"318.115234\" xlink:href=\"#DejaVuSans-48\"/>\n      </g>\n     </g>\n    </g>\n    <g id=\"text_19\">\n     <!-- Asset Value -->\n     <defs>\n      <path d=\"M 34.1875 63.1875 \nL 20.796875 26.90625 \nL 47.609375 26.90625 \nz\nM 28.609375 72.90625 \nL 39.796875 72.90625 \nL 67.578125 0 \nL 57.328125 0 \nL 50.6875 18.703125 \nL 17.828125 18.703125 \nL 11.1875 0 \nL 0.78125 0 \nz\n\" id=\"DejaVuSans-65\"/>\n      <path d=\"M 44.28125 53.078125 \nL 44.28125 44.578125 \nQ 40.484375 46.53125 36.375 47.5 \nQ 32.28125 48.484375 27.875 48.484375 \nQ 21.1875 48.484375 17.84375 46.4375 \nQ 14.5 44.390625 14.5 40.28125 \nQ 14.5 37.15625 16.890625 35.375 \nQ 19.28125 33.59375 26.515625 31.984375 \nL 29.59375 31.296875 \nQ 39.15625 29.25 43.1875 25.515625 \nQ 47.21875 21.78125 47.21875 15.09375 \nQ 47.21875 7.46875 41.1875 3.015625 \nQ 35.15625 -1.421875 24.609375 -1.421875 \nQ 20.21875 -1.421875 15.453125 -0.5625 \nQ 10.6875 0.296875 5.421875 2 \nL 5.421875 11.28125 \nQ 10.40625 8.6875 15.234375 7.390625 \nQ 20.0625 6.109375 24.8125 6.109375 \nQ 31.15625 6.109375 34.5625 8.28125 \nQ 37.984375 10.453125 37.984375 14.40625 \nQ 37.984375 18.0625 35.515625 20.015625 \nQ 33.0625 21.96875 24.703125 23.78125 \nL 21.578125 24.515625 \nQ 13.234375 26.265625 9.515625 29.90625 \nQ 5.8125 33.546875 5.8125 39.890625 \nQ 5.8125 47.609375 11.28125 51.796875 \nQ 16.75 56 26.8125 56 \nQ 31.78125 56 36.171875 55.265625 \nQ 40.578125 54.546875 44.28125 53.078125 \nz\n\" id=\"DejaVuSans-115\"/>\n      <path d=\"M 18.3125 70.21875 \nL 18.3125 54.6875 \nL 36.8125 54.6875 \nL 36.8125 47.703125 \nL 18.3125 47.703125 \nL 18.3125 18.015625 \nQ 18.3125 11.328125 20.140625 9.421875 \nQ 21.96875 7.515625 27.59375 7.515625 \nL 36.8125 7.515625 \nL 36.8125 0 \nL 27.59375 0 \nQ 17.1875 0 13.234375 3.875 \nQ 9.28125 7.765625 9.28125 18.015625 \nL 9.28125 47.703125 \nL 2.6875 47.703125 \nL 2.6875 54.6875 \nL 9.28125 54.6875 \nL 9.28125 70.21875 \nz\n\" id=\"DejaVuSans-116\"/>\n      <path id=\"DejaVuSans-32\"/>\n      <path d=\"M 28.609375 0 \nL 0.78125 72.90625 \nL 11.078125 72.90625 \nL 34.1875 11.53125 \nL 57.328125 72.90625 \nL 67.578125 72.90625 \nL 39.796875 0 \nz\n\" id=\"DejaVuSans-86\"/>\n      <path d=\"M 34.28125 27.484375 \nQ 23.390625 27.484375 19.1875 25 \nQ 14.984375 22.515625 14.984375 16.5 \nQ 14.984375 11.71875 18.140625 8.90625 \nQ 21.296875 6.109375 26.703125 6.109375 \nQ 34.1875 6.109375 38.703125 11.40625 \nQ 43.21875 16.703125 43.21875 25.484375 \nL 43.21875 27.484375 \nz\nM 52.203125 31.203125 \nL 52.203125 0 \nL 43.21875 0 \nL 43.21875 8.296875 \nQ 40.140625 3.328125 35.546875 0.953125 \nQ 30.953125 -1.421875 24.3125 -1.421875 \nQ 15.921875 -1.421875 10.953125 3.296875 \nQ 6 8.015625 6 15.921875 \nQ 6 25.140625 12.171875 29.828125 \nQ 18.359375 34.515625 30.609375 34.515625 \nL 43.21875 34.515625 \nL 43.21875 35.40625 \nQ 43.21875 41.609375 39.140625 45 \nQ 35.0625 48.390625 27.6875 48.390625 \nQ 23 48.390625 18.546875 47.265625 \nQ 14.109375 46.140625 10.015625 43.890625 \nL 10.015625 52.203125 \nQ 14.9375 54.109375 19.578125 55.046875 \nQ 24.21875 56 28.609375 56 \nQ 40.484375 56 46.34375 49.84375 \nQ 52.203125 43.703125 52.203125 31.203125 \nz\n\" id=\"DejaVuSans-97\"/>\n      <path d=\"M 9.421875 75.984375 \nL 18.40625 75.984375 \nL 18.40625 0 \nL 9.421875 0 \nz\n\" id=\"DejaVuSans-108\"/>\n      <path d=\"M 8.5 21.578125 \nL 8.5 54.6875 \nL 17.484375 54.6875 \nL 17.484375 21.921875 \nQ 17.484375 14.15625 20.5 10.265625 \nQ 23.53125 6.390625 29.59375 6.390625 \nQ 36.859375 6.390625 41.078125 11.03125 \nQ 45.3125 15.671875 45.3125 23.6875 \nL 45.3125 54.6875 \nL 54.296875 54.6875 \nL 54.296875 0 \nL 45.3125 0 \nL 45.3125 8.40625 \nQ 42.046875 3.421875 37.71875 1 \nQ 33.40625 -1.421875 27.6875 -1.421875 \nQ 18.265625 -1.421875 13.375 4.4375 \nQ 8.5 10.296875 8.5 21.578125 \nz\nM 31.109375 56 \nz\n\" id=\"DejaVuSans-117\"/>\n     </defs>\n     <g transform=\"translate(14.798438 214.766875)rotate(-90)scale(0.1 -0.1)\">\n      <use xlink:href=\"#DejaVuSans-65\"/>\n      <use x=\"68.408203\" xlink:href=\"#DejaVuSans-115\"/>\n      <use x=\"120.507812\" xlink:href=\"#DejaVuSans-115\"/>\n      <use x=\"172.607422\" xlink:href=\"#DejaVuSans-101\"/>\n      <use x=\"234.130859\" xlink:href=\"#DejaVuSans-116\"/>\n      <use x=\"273.339844\" xlink:href=\"#DejaVuSans-32\"/>\n      <use x=\"305.126953\" xlink:href=\"#DejaVuSans-86\"/>\n      <use x=\"373.425781\" xlink:href=\"#DejaVuSans-97\"/>\n      <use x=\"434.705078\" xlink:href=\"#DejaVuSans-108\"/>\n      <use x=\"462.488281\" xlink:href=\"#DejaVuSans-117\"/>\n      <use x=\"525.867188\" xlink:href=\"#DejaVuSans-101\"/>\n     </g>\n    </g>\n   </g>\n   <g id=\"line2d_18\">\n    <path clip-path=\"url(#p0549eac1cf)\" d=\"M 96.489489 161.381373 \nL 400.853125 333.65267 \nL 705.216761 317.991643 \n\" style=\"fill:none;stroke:#1f77b4;stroke-linecap:square;stroke-width:1.5;\"/>\n   </g>\n   <g id=\"line2d_19\">\n    <path clip-path=\"url(#p0549eac1cf)\" d=\"M 96.489489 161.381373 \nL 400.853125 152.726625 \nL 705.216761 37.14358 \n\" style=\"fill:none;stroke:#ff7f0e;stroke-linecap:square;stroke-width:1.5;\"/>\n   </g>\n   <g id=\"line2d_20\">\n    <path clip-path=\"url(#p0549eac1cf)\" d=\"M 96.489489 161.381373 \nL 400.853125 168.446918 \nL 705.216761 60.60132 \n\" style=\"fill:none;stroke:#2ca02c;stroke-linecap:square;stroke-width:1.5;\"/>\n   </g>\n   <g id=\"line2d_21\">\n    <path clip-path=\"url(#p0549eac1cf)\" d=\"M 96.489489 161.381373 \nL 400.853125 333.65267 \nL 705.216761 317.991643 \n\" style=\"fill:none;stroke:#d62728;stroke-linecap:square;stroke-width:1.5;\"/>\n   </g>\n   <g id=\"line2d_22\">\n    <path clip-path=\"url(#p0549eac1cf)\" d=\"M 96.489489 161.381373 \nL 400.853125 333.65267 \nL 705.216761 317.991643 \n\" style=\"fill:none;stroke:#9467bd;stroke-linecap:square;stroke-width:1.5;\"/>\n   </g>\n   <g id=\"line2d_23\">\n    <path clip-path=\"url(#p0549eac1cf)\" d=\"M 96.489489 161.381373 \nL 400.853125 174.280907 \nL 705.216761 67.308084 \n\" style=\"fill:none;stroke:#8c564b;stroke-linecap:square;stroke-width:1.5;\"/>\n   </g>\n   <g id=\"line2d_24\">\n    <path clip-path=\"url(#p0549eac1cf)\" d=\"M 96.489489 161.381373 \nL 400.853125 148.637157 \nL 705.216761 63.061664 \n\" style=\"fill:none;stroke:#e377c2;stroke-linecap:square;stroke-width:1.5;\"/>\n   </g>\n   <g id=\"line2d_25\">\n    <path clip-path=\"url(#p0549eac1cf)\" d=\"M 96.489489 161.381373 \nL 400.853125 333.65267 \nL 705.216761 317.991643 \n\" style=\"fill:none;stroke:#7f7f7f;stroke-linecap:square;stroke-width:1.5;\"/>\n   </g>\n   <g id=\"line2d_26\">\n    <path clip-path=\"url(#p0549eac1cf)\" d=\"M 96.489489 161.381373 \nL 400.853125 231.370832 \nL 705.216761 106.760579 \n\" style=\"fill:none;stroke:#bcbd22;stroke-linecap:square;stroke-width:1.5;\"/>\n   </g>\n   <g id=\"patch_3\">\n    <path d=\"M 66.053125 348.478125 \nL 66.053125 22.318125 \n\" style=\"fill:none;stroke:#000000;stroke-linecap:square;stroke-linejoin:miter;stroke-width:0.8;\"/>\n   </g>\n   <g id=\"patch_4\">\n    <path d=\"M 735.653125 348.478125 \nL 735.653125 22.318125 \n\" style=\"fill:none;stroke:#000000;stroke-linecap:square;stroke-linejoin:miter;stroke-width:0.8;\"/>\n   </g>\n   <g id=\"patch_5\">\n    <path d=\"M 66.053125 348.478125 \nL 735.653125 348.478125 \n\" style=\"fill:none;stroke:#000000;stroke-linecap:square;stroke-linejoin:miter;stroke-width:0.8;\"/>\n   </g>\n   <g id=\"patch_6\">\n    <path d=\"M 66.053125 22.318125 \nL 735.653125 22.318125 \n\" style=\"fill:none;stroke:#000000;stroke-linecap:square;stroke-linejoin:miter;stroke-width:0.8;\"/>\n   </g>\n   <g id=\"text_20\">\n    <!-- Start Date:20180118 -->\n    <defs>\n     <path d=\"M 53.515625 70.515625 \nL 53.515625 60.890625 \nQ 47.90625 63.578125 42.921875 64.890625 \nQ 37.9375 66.21875 33.296875 66.21875 \nQ 25.25 66.21875 20.875 63.09375 \nQ 16.5 59.96875 16.5 54.203125 \nQ 16.5 49.359375 19.40625 46.890625 \nQ 22.3125 44.4375 30.421875 42.921875 \nL 36.375 41.703125 \nQ 47.40625 39.59375 52.65625 34.296875 \nQ 57.90625 29 57.90625 20.125 \nQ 57.90625 9.515625 50.796875 4.046875 \nQ 43.703125 -1.421875 29.984375 -1.421875 \nQ 24.8125 -1.421875 18.96875 -0.25 \nQ 13.140625 0.921875 6.890625 3.21875 \nL 6.890625 13.375 \nQ 12.890625 10.015625 18.65625 8.296875 \nQ 24.421875 6.59375 29.984375 6.59375 \nQ 38.421875 6.59375 43.015625 9.90625 \nQ 47.609375 13.234375 47.609375 19.390625 \nQ 47.609375 24.75 44.3125 27.78125 \nQ 41.015625 30.8125 33.5 32.328125 \nL 27.484375 33.5 \nQ 16.453125 35.6875 11.515625 40.375 \nQ 6.59375 45.0625 6.59375 53.421875 \nQ 6.59375 63.09375 13.40625 68.65625 \nQ 20.21875 74.21875 32.171875 74.21875 \nQ 37.3125 74.21875 42.625 73.28125 \nQ 47.953125 72.359375 53.515625 70.515625 \nz\n\" id=\"DejaVuSans-83\"/>\n     <path d=\"M 41.109375 46.296875 \nQ 39.59375 47.171875 37.8125 47.578125 \nQ 36.03125 48 33.890625 48 \nQ 26.265625 48 22.1875 43.046875 \nQ 18.109375 38.09375 18.109375 28.8125 \nL 18.109375 0 \nL 9.078125 0 \nL 9.078125 54.6875 \nL 18.109375 54.6875 \nL 18.109375 46.1875 \nQ 20.953125 51.171875 25.484375 53.578125 \nQ 30.03125 56 36.53125 56 \nQ 37.453125 56 38.578125 55.875 \nQ 39.703125 55.765625 41.0625 55.515625 \nz\n\" id=\"DejaVuSans-114\"/>\n     <path d=\"M 19.671875 64.796875 \nL 19.671875 8.109375 \nL 31.59375 8.109375 \nQ 46.6875 8.109375 53.6875 14.9375 \nQ 60.6875 21.78125 60.6875 36.53125 \nQ 60.6875 51.171875 53.6875 57.984375 \nQ 46.6875 64.796875 31.59375 64.796875 \nz\nM 9.8125 72.90625 \nL 30.078125 72.90625 \nQ 51.265625 72.90625 61.171875 64.09375 \nQ 71.09375 55.28125 71.09375 36.53125 \nQ 71.09375 17.671875 61.125 8.828125 \nQ 51.171875 0 30.078125 0 \nL 9.8125 0 \nz\n\" id=\"DejaVuSans-68\"/>\n     <path d=\"M 11.71875 12.40625 \nL 22.015625 12.40625 \nL 22.015625 0 \nL 11.71875 0 \nz\nM 11.71875 51.703125 \nL 22.015625 51.703125 \nL 22.015625 39.3125 \nL 11.71875 39.3125 \nz\n\" id=\"DejaVuSans-58\"/>\n     <path d=\"M 31.78125 34.625 \nQ 24.75 34.625 20.71875 30.859375 \nQ 16.703125 27.09375 16.703125 20.515625 \nQ 16.703125 13.921875 20.71875 10.15625 \nQ 24.75 6.390625 31.78125 6.390625 \nQ 38.8125 6.390625 42.859375 10.171875 \nQ 46.921875 13.96875 46.921875 20.515625 \nQ 46.921875 27.09375 42.890625 30.859375 \nQ 38.875 34.625 31.78125 34.625 \nz\nM 21.921875 38.8125 \nQ 15.578125 40.375 12.03125 44.71875 \nQ 8.5 49.078125 8.5 55.328125 \nQ 8.5 64.0625 14.71875 69.140625 \nQ 20.953125 74.21875 31.78125 74.21875 \nQ 42.671875 74.21875 48.875 69.140625 \nQ 55.078125 64.0625 55.078125 55.328125 \nQ 55.078125 49.078125 51.53125 44.71875 \nQ 48 40.375 41.703125 38.8125 \nQ 48.828125 37.15625 52.796875 32.3125 \nQ 56.78125 27.484375 56.78125 20.515625 \nQ 56.78125 9.90625 50.3125 4.234375 \nQ 43.84375 -1.421875 31.78125 -1.421875 \nQ 19.734375 -1.421875 13.25 4.234375 \nQ 6.78125 9.90625 6.78125 20.515625 \nQ 6.78125 27.484375 10.78125 32.3125 \nQ 14.796875 37.15625 21.921875 38.8125 \nz\nM 18.3125 54.390625 \nQ 18.3125 48.734375 21.84375 45.5625 \nQ 25.390625 42.390625 31.78125 42.390625 \nQ 38.140625 42.390625 41.71875 45.5625 \nQ 45.3125 48.734375 45.3125 54.390625 \nQ 45.3125 60.0625 41.71875 63.234375 \nQ 38.140625 66.40625 31.78125 66.40625 \nQ 25.390625 66.40625 21.84375 63.234375 \nQ 18.3125 60.0625 18.3125 54.390625 \nz\n\" id=\"DejaVuSans-56\"/>\n    </defs>\n    <g transform=\"translate(337.387188 16.318125)scale(0.12 -0.12)\">\n     <use xlink:href=\"#DejaVuSans-83\"/>\n     <use x=\"63.476562\" xlink:href=\"#DejaVuSans-116\"/>\n     <use x=\"102.685547\" xlink:href=\"#DejaVuSans-97\"/>\n     <use x=\"163.964844\" xlink:href=\"#DejaVuSans-114\"/>\n     <use x=\"205.078125\" xlink:href=\"#DejaVuSans-116\"/>\n     <use x=\"244.287109\" xlink:href=\"#DejaVuSans-32\"/>\n     <use x=\"276.074219\" xlink:href=\"#DejaVuSans-68\"/>\n     <use x=\"353.076172\" xlink:href=\"#DejaVuSans-97\"/>\n     <use x=\"414.355469\" xlink:href=\"#DejaVuSans-116\"/>\n     <use x=\"453.564453\" xlink:href=\"#DejaVuSans-101\"/>\n     <use x=\"515.087891\" xlink:href=\"#DejaVuSans-58\"/>\n     <use x=\"548.779297\" xlink:href=\"#DejaVuSans-50\"/>\n     <use x=\"612.402344\" xlink:href=\"#DejaVuSans-48\"/>\n     <use x=\"676.025391\" xlink:href=\"#DejaVuSans-49\"/>\n     <use x=\"739.648438\" xlink:href=\"#DejaVuSans-56\"/>\n     <use x=\"803.271484\" xlink:href=\"#DejaVuSans-48\"/>\n     <use x=\"866.894531\" xlink:href=\"#DejaVuSans-49\"/>\n     <use x=\"930.517578\" xlink:href=\"#DejaVuSans-49\"/>\n     <use x=\"994.140625\" xlink:href=\"#DejaVuSans-56\"/>\n    </g>\n   </g>\n   <g id=\"legend_1\">\n    <g id=\"patch_7\">\n     <path d=\"M 742.653125 253.505937 \nL 838.082813 253.505937 \nQ 840.082813 253.505937 840.082813 251.505937 \nL 840.082813 119.290312 \nQ 840.082813 117.290312 838.082813 117.290312 \nL 742.653125 117.290312 \nQ 740.653125 117.290312 740.653125 119.290312 \nL 740.653125 251.505937 \nQ 740.653125 253.505937 742.653125 253.505937 \nz\n\" style=\"fill:#ffffff;opacity:0.8;stroke:#cccccc;stroke-linejoin:miter;\"/>\n    </g>\n    <g id=\"line2d_27\">\n     <path d=\"M 744.653125 125.38875 \nL 764.653125 125.38875 \n\" style=\"fill:none;stroke:#1f77b4;stroke-linecap:square;stroke-width:1.5;\"/>\n    </g>\n    <g id=\"line2d_28\"/>\n    <g id=\"text_21\">\n     <!-- LR -->\n     <defs>\n      <path d=\"M 9.8125 72.90625 \nL 19.671875 72.90625 \nL 19.671875 8.296875 \nL 55.171875 8.296875 \nL 55.171875 0 \nL 9.8125 0 \nz\n\" id=\"DejaVuSans-76\"/>\n      <path d=\"M 44.390625 34.1875 \nQ 47.5625 33.109375 50.5625 29.59375 \nQ 53.5625 26.078125 56.59375 19.921875 \nL 66.609375 0 \nL 56 0 \nL 46.6875 18.703125 \nQ 43.0625 26.03125 39.671875 28.421875 \nQ 36.28125 30.8125 30.421875 30.8125 \nL 19.671875 30.8125 \nL 19.671875 0 \nL 9.8125 0 \nL 9.8125 72.90625 \nL 32.078125 72.90625 \nQ 44.578125 72.90625 50.734375 67.671875 \nQ 56.890625 62.453125 56.890625 51.90625 \nQ 56.890625 45.015625 53.6875 40.46875 \nQ 50.484375 35.9375 44.390625 34.1875 \nz\nM 19.671875 64.796875 \nL 19.671875 38.921875 \nL 32.078125 38.921875 \nQ 39.203125 38.921875 42.84375 42.21875 \nQ 46.484375 45.515625 46.484375 51.90625 \nQ 46.484375 58.296875 42.84375 61.546875 \nQ 39.203125 64.796875 32.078125 64.796875 \nz\n\" id=\"DejaVuSans-82\"/>\n     </defs>\n     <g transform=\"translate(772.653125 128.88875)scale(0.1 -0.1)\">\n      <use xlink:href=\"#DejaVuSans-76\"/>\n      <use x=\"55.712891\" xlink:href=\"#DejaVuSans-82\"/>\n     </g>\n    </g>\n    <g id=\"line2d_29\">\n     <path d=\"M 744.653125 140.066875 \nL 764.653125 140.066875 \n\" style=\"fill:none;stroke:#ff7f0e;stroke-linecap:square;stroke-width:1.5;\"/>\n    </g>\n    <g id=\"line2d_30\"/>\n    <g id=\"text_22\">\n     <!-- RF -->\n     <defs>\n      <path d=\"M 9.8125 72.90625 \nL 51.703125 72.90625 \nL 51.703125 64.59375 \nL 19.671875 64.59375 \nL 19.671875 43.109375 \nL 48.578125 43.109375 \nL 48.578125 34.8125 \nL 19.671875 34.8125 \nL 19.671875 0 \nL 9.8125 0 \nz\n\" id=\"DejaVuSans-70\"/>\n     </defs>\n     <g transform=\"translate(772.653125 143.566875)scale(0.1 -0.1)\">\n      <use xlink:href=\"#DejaVuSans-82\"/>\n      <use x=\"69.482422\" xlink:href=\"#DejaVuSans-70\"/>\n     </g>\n    </g>\n    <g id=\"line2d_31\">\n     <path d=\"M 744.653125 154.745 \nL 764.653125 154.745 \n\" style=\"fill:none;stroke:#2ca02c;stroke-linecap:square;stroke-width:1.5;\"/>\n    </g>\n    <g id=\"line2d_32\"/>\n    <g id=\"text_23\">\n     <!-- DNN -->\n     <defs>\n      <path d=\"M 9.8125 72.90625 \nL 23.09375 72.90625 \nL 55.421875 11.921875 \nL 55.421875 72.90625 \nL 64.984375 72.90625 \nL 64.984375 0 \nL 51.703125 0 \nL 19.390625 60.984375 \nL 19.390625 0 \nL 9.8125 0 \nz\n\" id=\"DejaVuSans-78\"/>\n     </defs>\n     <g transform=\"translate(772.653125 158.245)scale(0.1 -0.1)\">\n      <use xlink:href=\"#DejaVuSans-68\"/>\n      <use x=\"77.001953\" xlink:href=\"#DejaVuSans-78\"/>\n      <use x=\"151.806641\" xlink:href=\"#DejaVuSans-78\"/>\n     </g>\n    </g>\n    <g id=\"line2d_33\">\n     <path d=\"M 744.653125 169.423125 \nL 764.653125 169.423125 \n\" style=\"fill:none;stroke:#d62728;stroke-linecap:square;stroke-width:1.5;\"/>\n    </g>\n    <g id=\"line2d_34\"/>\n    <g id=\"text_24\">\n     <!-- Stacking -->\n     <defs>\n      <path d=\"M 48.78125 52.59375 \nL 48.78125 44.1875 \nQ 44.96875 46.296875 41.140625 47.34375 \nQ 37.3125 48.390625 33.40625 48.390625 \nQ 24.65625 48.390625 19.8125 42.84375 \nQ 14.984375 37.3125 14.984375 27.296875 \nQ 14.984375 17.28125 19.8125 11.734375 \nQ 24.65625 6.203125 33.40625 6.203125 \nQ 37.3125 6.203125 41.140625 7.25 \nQ 44.96875 8.296875 48.78125 10.40625 \nL 48.78125 2.09375 \nQ 45.015625 0.34375 40.984375 -0.53125 \nQ 36.96875 -1.421875 32.421875 -1.421875 \nQ 20.0625 -1.421875 12.78125 6.34375 \nQ 5.515625 14.109375 5.515625 27.296875 \nQ 5.515625 40.671875 12.859375 48.328125 \nQ 20.21875 56 33.015625 56 \nQ 37.15625 56 41.109375 55.140625 \nQ 45.0625 54.296875 48.78125 52.59375 \nz\n\" id=\"DejaVuSans-99\"/>\n      <path d=\"M 9.078125 75.984375 \nL 18.109375 75.984375 \nL 18.109375 31.109375 \nL 44.921875 54.6875 \nL 56.390625 54.6875 \nL 27.390625 29.109375 \nL 57.625 0 \nL 45.90625 0 \nL 18.109375 26.703125 \nL 18.109375 0 \nL 9.078125 0 \nz\n\" id=\"DejaVuSans-107\"/>\n      <path d=\"M 54.890625 33.015625 \nL 54.890625 0 \nL 45.90625 0 \nL 45.90625 32.71875 \nQ 45.90625 40.484375 42.875 44.328125 \nQ 39.84375 48.1875 33.796875 48.1875 \nQ 26.515625 48.1875 22.3125 43.546875 \nQ 18.109375 38.921875 18.109375 30.90625 \nL 18.109375 0 \nL 9.078125 0 \nL 9.078125 54.6875 \nL 18.109375 54.6875 \nL 18.109375 46.1875 \nQ 21.34375 51.125 25.703125 53.5625 \nQ 30.078125 56 35.796875 56 \nQ 45.21875 56 50.046875 50.171875 \nQ 54.890625 44.34375 54.890625 33.015625 \nz\n\" id=\"DejaVuSans-110\"/>\n      <path d=\"M 45.40625 27.984375 \nQ 45.40625 37.75 41.375 43.109375 \nQ 37.359375 48.484375 30.078125 48.484375 \nQ 22.859375 48.484375 18.828125 43.109375 \nQ 14.796875 37.75 14.796875 27.984375 \nQ 14.796875 18.265625 18.828125 12.890625 \nQ 22.859375 7.515625 30.078125 7.515625 \nQ 37.359375 7.515625 41.375 12.890625 \nQ 45.40625 18.265625 45.40625 27.984375 \nz\nM 54.390625 6.78125 \nQ 54.390625 -7.171875 48.1875 -13.984375 \nQ 42 -20.796875 29.203125 -20.796875 \nQ 24.46875 -20.796875 20.265625 -20.09375 \nQ 16.0625 -19.390625 12.109375 -17.921875 \nL 12.109375 -9.1875 \nQ 16.0625 -11.328125 19.921875 -12.34375 \nQ 23.78125 -13.375 27.78125 -13.375 \nQ 36.625 -13.375 41.015625 -8.765625 \nQ 45.40625 -4.15625 45.40625 5.171875 \nL 45.40625 9.625 \nQ 42.625 4.78125 38.28125 2.390625 \nQ 33.9375 0 27.875 0 \nQ 17.828125 0 11.671875 7.65625 \nQ 5.515625 15.328125 5.515625 27.984375 \nQ 5.515625 40.671875 11.671875 48.328125 \nQ 17.828125 56 27.875 56 \nQ 33.9375 56 38.28125 53.609375 \nQ 42.625 51.21875 45.40625 46.390625 \nL 45.40625 54.6875 \nL 54.390625 54.6875 \nz\n\" id=\"DejaVuSans-103\"/>\n     </defs>\n     <g transform=\"translate(772.653125 172.923125)scale(0.1 -0.1)\">\n      <use xlink:href=\"#DejaVuSans-83\"/>\n      <use x=\"63.476562\" xlink:href=\"#DejaVuSans-116\"/>\n      <use x=\"102.685547\" xlink:href=\"#DejaVuSans-97\"/>\n      <use x=\"163.964844\" xlink:href=\"#DejaVuSans-99\"/>\n      <use x=\"218.945312\" xlink:href=\"#DejaVuSans-107\"/>\n      <use x=\"276.855469\" xlink:href=\"#DejaVuSans-105\"/>\n      <use x=\"304.638672\" xlink:href=\"#DejaVuSans-110\"/>\n      <use x=\"368.017578\" xlink:href=\"#DejaVuSans-103\"/>\n     </g>\n    </g>\n    <g id=\"line2d_35\">\n     <path d=\"M 744.653125 184.10125 \nL 764.653125 184.10125 \n\" style=\"fill:none;stroke:#9467bd;stroke-linecap:square;stroke-width:1.5;\"/>\n    </g>\n    <g id=\"line2d_36\"/>\n    <g id=\"text_25\">\n     <!-- LR_Sel -->\n     <defs>\n      <path d=\"M 50.984375 -16.609375 \nL 50.984375 -23.578125 \nL -0.984375 -23.578125 \nL -0.984375 -16.609375 \nz\n\" id=\"DejaVuSans-95\"/>\n     </defs>\n     <g transform=\"translate(772.653125 187.60125)scale(0.1 -0.1)\">\n      <use xlink:href=\"#DejaVuSans-76\"/>\n      <use x=\"55.712891\" xlink:href=\"#DejaVuSans-82\"/>\n      <use x=\"125.195312\" xlink:href=\"#DejaVuSans-95\"/>\n      <use x=\"175.195312\" xlink:href=\"#DejaVuSans-83\"/>\n      <use x=\"238.671875\" xlink:href=\"#DejaVuSans-101\"/>\n      <use x=\"300.195312\" xlink:href=\"#DejaVuSans-108\"/>\n     </g>\n    </g>\n    <g id=\"line2d_37\">\n     <path d=\"M 744.653125 199.0575 \nL 764.653125 199.0575 \n\" style=\"fill:none;stroke:#8c564b;stroke-linecap:square;stroke-width:1.5;\"/>\n    </g>\n    <g id=\"line2d_38\"/>\n    <g id=\"text_26\">\n     <!-- RF_Sel -->\n     <g transform=\"translate(772.653125 202.5575)scale(0.1 -0.1)\">\n      <use xlink:href=\"#DejaVuSans-82\"/>\n      <use x=\"69.482422\" xlink:href=\"#DejaVuSans-70\"/>\n      <use x=\"127.001953\" xlink:href=\"#DejaVuSans-95\"/>\n      <use x=\"177.001953\" xlink:href=\"#DejaVuSans-83\"/>\n      <use x=\"240.478516\" xlink:href=\"#DejaVuSans-101\"/>\n      <use x=\"302.001953\" xlink:href=\"#DejaVuSans-108\"/>\n     </g>\n    </g>\n    <g id=\"line2d_39\">\n     <path d=\"M 744.653125 214.01375 \nL 764.653125 214.01375 \n\" style=\"fill:none;stroke:#e377c2;stroke-linecap:square;stroke-width:1.5;\"/>\n    </g>\n    <g id=\"line2d_40\"/>\n    <g id=\"text_27\">\n     <!-- DNN_Sel -->\n     <g transform=\"translate(772.653125 217.51375)scale(0.1 -0.1)\">\n      <use xlink:href=\"#DejaVuSans-68\"/>\n      <use x=\"77.001953\" xlink:href=\"#DejaVuSans-78\"/>\n      <use x=\"151.806641\" xlink:href=\"#DejaVuSans-78\"/>\n      <use x=\"226.611328\" xlink:href=\"#DejaVuSans-95\"/>\n      <use x=\"276.611328\" xlink:href=\"#DejaVuSans-83\"/>\n      <use x=\"340.087891\" xlink:href=\"#DejaVuSans-101\"/>\n      <use x=\"401.611328\" xlink:href=\"#DejaVuSans-108\"/>\n     </g>\n    </g>\n    <g id=\"line2d_41\">\n     <path d=\"M 744.653125 228.97 \nL 764.653125 228.97 \n\" style=\"fill:none;stroke:#7f7f7f;stroke-linecap:square;stroke-width:1.5;\"/>\n    </g>\n    <g id=\"line2d_42\"/>\n    <g id=\"text_28\">\n     <!-- Stacking_Sel -->\n     <g transform=\"translate(772.653125 232.47)scale(0.1 -0.1)\">\n      <use xlink:href=\"#DejaVuSans-83\"/>\n      <use x=\"63.476562\" xlink:href=\"#DejaVuSans-116\"/>\n      <use x=\"102.685547\" xlink:href=\"#DejaVuSans-97\"/>\n      <use x=\"163.964844\" xlink:href=\"#DejaVuSans-99\"/>\n      <use x=\"218.945312\" xlink:href=\"#DejaVuSans-107\"/>\n      <use x=\"276.855469\" xlink:href=\"#DejaVuSans-105\"/>\n      <use x=\"304.638672\" xlink:href=\"#DejaVuSans-110\"/>\n      <use x=\"368.017578\" xlink:href=\"#DejaVuSans-103\"/>\n      <use x=\"431.494141\" xlink:href=\"#DejaVuSans-95\"/>\n      <use x=\"481.494141\" xlink:href=\"#DejaVuSans-83\"/>\n      <use x=\"544.970703\" xlink:href=\"#DejaVuSans-101\"/>\n      <use x=\"606.494141\" xlink:href=\"#DejaVuSans-108\"/>\n     </g>\n    </g>\n    <g id=\"line2d_43\">\n     <path d=\"M 744.653125 243.92625 \nL 764.653125 243.92625 \n\" style=\"fill:none;stroke:#bcbd22;stroke-linecap:square;stroke-width:1.5;\"/>\n    </g>\n    <g id=\"line2d_44\"/>\n    <g id=\"text_29\">\n     <!-- Average -->\n     <defs>\n      <path d=\"M 2.984375 54.6875 \nL 12.5 54.6875 \nL 29.59375 8.796875 \nL 46.6875 54.6875 \nL 56.203125 54.6875 \nL 35.6875 0 \nL 23.484375 0 \nz\n\" id=\"DejaVuSans-118\"/>\n     </defs>\n     <g transform=\"translate(772.653125 247.42625)scale(0.1 -0.1)\">\n      <use xlink:href=\"#DejaVuSans-65\"/>\n      <use x=\"68.330078\" xlink:href=\"#DejaVuSans-118\"/>\n      <use x=\"127.509766\" xlink:href=\"#DejaVuSans-101\"/>\n      <use x=\"189.033203\" xlink:href=\"#DejaVuSans-114\"/>\n      <use x=\"230.146484\" xlink:href=\"#DejaVuSans-97\"/>\n      <use x=\"291.425781\" xlink:href=\"#DejaVuSans-103\"/>\n      <use x=\"354.902344\" xlink:href=\"#DejaVuSans-101\"/>\n     </g>\n    </g>\n   </g>\n  </g>\n </g>\n <defs>\n  <clipPath id=\"p0549eac1cf\">\n   <rect height=\"326.16\" width=\"669.6\" x=\"66.053125\" y=\"22.318125\"/>\n  </clipPath>\n </defs>\n</svg>\n",
      "image/png": "[encoded data removed]"
     },
     "metadata": {
      "needs_background": "light"
     }
    }
   ],
   "source": [
    "X_test_portfolio_masked = X_test_portfolio[ : , Filter == 1 ] \n",
    "model_collection = [ (\"LR\", model_logistic) , (\"RF\", model_forest), (\"DNN\", model_deep), (\"Stacking\", model_stacking),\\\n",
    "                    (\"LR_Sel\", model_logistic_masked) , (\"RF_Sel\", model_forest_masked), (\"DNN_Sel\", model_deep_masked), (\"Stacking_Sel\", model_stacking_masked)]\n",
    "EvaluationClass.evalu_por( X_test_portfolio, X_test_portfolio_masked, Y_test_portfolio, model_collection, Q, test_start)"
   ]
  }
 ]
}